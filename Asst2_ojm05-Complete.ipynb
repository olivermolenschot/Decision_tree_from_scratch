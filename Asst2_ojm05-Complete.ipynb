{
 "cells": [
  {
   "cell_type": "markdown",
   "metadata": {
    "id": "QHAvc9juz2qo"
   },
   "source": [
    "# CMPS 261 -Machine Learning: Assignment 2\n",
    "\n",
    "### General Information:\n",
    "<p>Feel free to add cells if required.<br> Feel free to write your own function block to reduce the redundancy.<br> Answers belong into the corresponding cells (below the question). <br><br> If you encounter empty cells underneath the answer that can not be edited, please ignore them, they are for testing purposes.<br><br>When editing an assignment there can be the case that there are variables in the Runtime. To make sure your assignment works, please restart the Runtime and run all cells before submitting (e.g. via <i>Runtime -> Restart & Run All</i>). We don't consider that respective solution if you make this mistake <b>(no excuse)</b>.</p>\n",
    "    <br><br><b> Give proper comments, follow camel case for the function name, use proper readable variable names to your coding, if you didn't follow the instructions there will be points reduction.</b><br><br><br>\n",
    "\n",
    "## <b>Whenever you are asked to report results, you are expected to perform 5-fold cross validation</b>\n",
    "<hr>\n",
    "\n",
    "\n",
    "### Submission:\n",
    "<p> Use the following naming format for your IPYNB: <b>Ass#_xyz0000</b>  (where # is the assignment number and xyz0000 is your AUB Net)<br>\n",
    "<font color=red><b><i>If an assignment has a copied solution, the task will be graded with 0 points for all people with the same solution.<b><i></font>\n",
    "\n",
    "\n",
    "\n",
    "\n",
    "\n"
   ]
  },
  {
   "cell_type": "code",
   "execution_count": 1,
   "metadata": {
    "id": "Jz9KSYSrz176"
   },
   "outputs": [],
   "source": [
    "'''\n",
    "Enter your Netid (ie: xyz0000) into the variable user.\n",
    "Enter your id number into the variable id.\n",
    "'''\n",
    "user = 'ojm05'\n",
    "user_id='202241607'"
   ]
  },
  {
   "cell_type": "code",
   "execution_count": 2,
   "metadata": {
    "id": "A0vwc1F3-5Up"
   },
   "outputs": [],
   "source": [
    "\n",
    "#Headers\n",
    "import numpy as np\n",
    "import pandas as pd\n",
    "import matplotlib.pyplot as plt\n",
    "import seaborn as sns\n",
    "import sklearn as sk\n",
    "from sklearn.preprocessing import StandardScaler\n",
    "from sklearn.linear_model import LogisticRegression\n",
    "from sklearn.tree import DecisionTreeClassifier\n",
    "from sklearn.preprocessing import LabelEncoder\n",
    "from scipy import optimize\n",
    "\n",
    "%matplotlib inline"
   ]
  },
  {
   "cell_type": "markdown",
   "metadata": {
    "id": "oElbM8dJCnV2"
   },
   "source": [
    "# Part 1 - Logistic Regression"
   ]
  },
  {
   "cell_type": "markdown",
   "metadata": {
    "id": "dNve3GwLCuRE"
   },
   "source": [
    "In this part of the exercise, you will build a logistic regression model to predict whether\n",
    "a student gets admitted into a university. Suppose that you are the administrator of a\n",
    "university department and you want to determine each applicant’s chance of admission\n",
    "based on their results on two exams. You have historical data from previous applicants\n",
    "that you can use as a training set for logistic regression. For each training example, you\n",
    "have the applicant’s scores on two exams and the admissions decision. Your task is to\n",
    "build a classification model that estimates an applicant’s probability of admission based\n",
    "the scores from those two exams\n"
   ]
  },
  {
   "cell_type": "markdown",
   "metadata": {
    "id": "BcgD8O2QLajJ"
   },
   "source": [
    "### Data Preprocessing\n",
    "\n",
    "Given the file \"admission_data1.csv\" <br>\n",
    "a) Start by plotting the data such that the axes are the two exam scores, and the positive and negative examples are shown with\n",
    "different markers"
   ]
  },
  {
   "cell_type": "code",
   "execution_count": 3,
   "metadata": {},
   "outputs": [],
   "source": [
    "dataset = pd.read_csv('admission_data1.csv', names=['exam1','exam2','acceptance'],index_col=False)"
   ]
  },
  {
   "cell_type": "code",
   "execution_count": 4,
   "metadata": {
    "id": "MBVDUOqvBsps"
   },
   "outputs": [
    {
     "data": {
      "text/html": [
       "<div>\n",
       "<style scoped>\n",
       "    .dataframe tbody tr th:only-of-type {\n",
       "        vertical-align: middle;\n",
       "    }\n",
       "\n",
       "    .dataframe tbody tr th {\n",
       "        vertical-align: top;\n",
       "    }\n",
       "\n",
       "    .dataframe thead th {\n",
       "        text-align: right;\n",
       "    }\n",
       "</style>\n",
       "<table border=\"1\" class=\"dataframe\">\n",
       "  <thead>\n",
       "    <tr style=\"text-align: right;\">\n",
       "      <th></th>\n",
       "      <th>exam1</th>\n",
       "      <th>exam2</th>\n",
       "      <th>acceptance</th>\n",
       "    </tr>\n",
       "  </thead>\n",
       "  <tbody>\n",
       "    <tr>\n",
       "      <th>0</th>\n",
       "      <td>34.623660</td>\n",
       "      <td>78.024693</td>\n",
       "      <td>0</td>\n",
       "    </tr>\n",
       "    <tr>\n",
       "      <th>1</th>\n",
       "      <td>30.286711</td>\n",
       "      <td>43.894998</td>\n",
       "      <td>0</td>\n",
       "    </tr>\n",
       "    <tr>\n",
       "      <th>2</th>\n",
       "      <td>35.847409</td>\n",
       "      <td>72.902198</td>\n",
       "      <td>0</td>\n",
       "    </tr>\n",
       "    <tr>\n",
       "      <th>3</th>\n",
       "      <td>60.182599</td>\n",
       "      <td>86.308552</td>\n",
       "      <td>1</td>\n",
       "    </tr>\n",
       "    <tr>\n",
       "      <th>4</th>\n",
       "      <td>79.032736</td>\n",
       "      <td>75.344376</td>\n",
       "      <td>1</td>\n",
       "    </tr>\n",
       "    <tr>\n",
       "      <th>...</th>\n",
       "      <td>...</td>\n",
       "      <td>...</td>\n",
       "      <td>...</td>\n",
       "    </tr>\n",
       "    <tr>\n",
       "      <th>95</th>\n",
       "      <td>83.489163</td>\n",
       "      <td>48.380286</td>\n",
       "      <td>1</td>\n",
       "    </tr>\n",
       "    <tr>\n",
       "      <th>96</th>\n",
       "      <td>42.261701</td>\n",
       "      <td>87.103851</td>\n",
       "      <td>1</td>\n",
       "    </tr>\n",
       "    <tr>\n",
       "      <th>97</th>\n",
       "      <td>99.315009</td>\n",
       "      <td>68.775409</td>\n",
       "      <td>1</td>\n",
       "    </tr>\n",
       "    <tr>\n",
       "      <th>98</th>\n",
       "      <td>55.340018</td>\n",
       "      <td>64.931938</td>\n",
       "      <td>1</td>\n",
       "    </tr>\n",
       "    <tr>\n",
       "      <th>99</th>\n",
       "      <td>74.775893</td>\n",
       "      <td>89.529813</td>\n",
       "      <td>1</td>\n",
       "    </tr>\n",
       "  </tbody>\n",
       "</table>\n",
       "<p>100 rows × 3 columns</p>\n",
       "</div>"
      ],
      "text/plain": [
       "        exam1      exam2  acceptance\n",
       "0   34.623660  78.024693           0\n",
       "1   30.286711  43.894998           0\n",
       "2   35.847409  72.902198           0\n",
       "3   60.182599  86.308552           1\n",
       "4   79.032736  75.344376           1\n",
       "..        ...        ...         ...\n",
       "95  83.489163  48.380286           1\n",
       "96  42.261701  87.103851           1\n",
       "97  99.315009  68.775409           1\n",
       "98  55.340018  64.931938           1\n",
       "99  74.775893  89.529813           1\n",
       "\n",
       "[100 rows x 3 columns]"
      ]
     },
     "execution_count": 4,
     "metadata": {},
     "output_type": "execute_result"
    }
   ],
   "source": [
    "dataset"
   ]
  },
  {
   "cell_type": "code",
   "execution_count": 5,
   "metadata": {
    "scrolled": false
   },
   "outputs": [
    {
     "data": {
      "text/plain": [
       "<matplotlib.legend.Legend at 0x1a17c9dbf40>"
      ]
     },
     "execution_count": 5,
     "metadata": {},
     "output_type": "execute_result"
    },
    {
     "data": {
      "image/png": "[encoded data removed]",
      "text/plain": [
       "<Figure size 432x288 with 1 Axes>"
      ]
     },
     "metadata": {
      "needs_background": "light"
     },
     "output_type": "display_data"
    }
   ],
   "source": [
    "fig, axes = plt.subplots()\n",
    "\n",
    "axes.scatter(dataset['exam1'], dataset['exam2'],c=dataset['acceptance'],label='Not Accepted')\n",
    "axes.set_xlabel('Exam 1')\n",
    "axes.set_ylabel('Exam 2')\n",
    "axes.set_title('Admission Data')\n",
    "axes.legend()\n",
    "\n",
    "\n"
   ]
  },
  {
   "cell_type": "markdown",
   "metadata": {
    "id": "DY4bMKrdLajL"
   },
   "source": [
    "b) Implement the sigmoid function, the cost function and gradient descent for logistic\n",
    "regression\n"
   ]
  },
  {
   "cell_type": "code",
   "execution_count": 6,
   "metadata": {},
   "outputs": [],
   "source": [
    "## I probably did more work than needed below, but I provided at the very least your requirements. "
   ]
  },
  {
   "cell_type": "code",
   "execution_count": 7,
   "metadata": {},
   "outputs": [
    {
     "name": "stdout",
     "output_type": "stream",
     "text": [
      "Rows: 1\n",
      "Columns: 3\n"
     ]
    }
   ],
   "source": [
    "# this is a matrix I will use to test my algorithms below\n",
    "matrix = np.array([[1, 5, 6]])\n",
    "\n",
    "# Get the dimensions of the matrix\n",
    "rows, columns = matrix.shape\n",
    "\n",
    "# Print the dimensions\n",
    "print(\"Rows:\", rows)\n",
    "print(\"Columns:\", columns)\n"
   ]
  },
  {
   "cell_type": "code",
   "execution_count": 8,
   "metadata": {},
   "outputs": [
    {
     "data": {
      "text/plain": [
       "array([1, 5, 6])"
      ]
     },
     "execution_count": 8,
     "metadata": {},
     "output_type": "execute_result"
    }
   ],
   "source": [
    "matrix[0]"
   ]
  },
  {
   "cell_type": "code",
   "execution_count": 9,
   "metadata": {},
   "outputs": [],
   "source": [
    "full_matrix = dataset[['exam1','exam2']].values"
   ]
  },
  {
   "cell_type": "code",
   "execution_count": 10,
   "metadata": {},
   "outputs": [],
   "source": [
    "ones_column = np.ones((full_matrix.shape[0], 1))\n",
    "full_matrix = np.hstack((ones_column, full_matrix))"
   ]
  },
  {
   "cell_type": "code",
   "execution_count": 11,
   "metadata": {},
   "outputs": [],
   "source": [
    "outcomes = dataset['acceptance'].values"
   ]
  },
  {
   "cell_type": "code",
   "execution_count": 12,
   "metadata": {},
   "outputs": [],
   "source": [
    "import math"
   ]
  },
  {
   "cell_type": "code",
   "execution_count": 13,
   "metadata": {
    "id": "DgyNA1b2L0AY"
   },
   "outputs": [],
   "source": [
    "# This sigmoid is used for training:\n",
    "def sigmoidFct(x,theta):\n",
    "    \n",
    "    z = np.dot(x.ravel(), theta.ravel())\n",
    "    return 1 / (1 + np.exp(-z))"
   ]
  },
  {
   "cell_type": "code",
   "execution_count": 14,
   "metadata": {},
   "outputs": [],
   "source": [
    "# This sigmoid is used for actual predictions:\n",
    "\n",
    "def sigmoidFctForPredictions(x,theta):\n",
    "    z = np.dot(x.ravel(), theta.ravel())\n",
    "    result = 1 / (1 + np.exp(-z))\n",
    "    if (result > 0.5):\n",
    "        return 1\n",
    "    else: \n",
    "        return 0"
   ]
  },
  {
   "cell_type": "code",
   "execution_count": 15,
   "metadata": {},
   "outputs": [],
   "source": [
    "def lossFunction(x, y, theta):\n",
    "    eps = 1e-10  # small value added to avoid math domain errors\n",
    "    y_pred = sigmoidFct(x, theta)\n",
    "    loss = -y*math.log(y_pred + eps) - (1-y)*math.log(1-y_pred + eps)\n",
    "    return loss"
   ]
  },
  {
   "cell_type": "code",
   "execution_count": 16,
   "metadata": {},
   "outputs": [
    {
     "data": {
      "text/plain": [
       "array([ 1.        , 34.62365962, 78.02469282])"
      ]
     },
     "execution_count": 16,
     "metadata": {},
     "output_type": "execute_result"
    }
   ],
   "source": [
    "full_matrix[0]"
   ]
  },
  {
   "cell_type": "code",
   "execution_count": 17,
   "metadata": {},
   "outputs": [],
   "source": [
    "def costFunction(matrix,outcomes,theta):\n",
    "    total_cost = 0\n",
    "    for i in range(0, matrix.shape[0]):\n",
    "        total_cost += lossFunction(matrix[i],outcomes[i],theta)\n",
    "    \n",
    "    return total_cost/ matrix.shape[0]"
   ]
  },
  {
   "cell_type": "code",
   "execution_count": 18,
   "metadata": {},
   "outputs": [],
   "source": [
    "def gradientDescent(matrix,outcomes,theta,alpha):\n",
    "    num_params = theta.shape[1]\n",
    "    theta_updates = np.zeros((1, num_params))\n",
    "    for i in range(num_params):\n",
    "        if i==0:\n",
    "            theta_updates[0,i] = partialDerivativeWithB(matrix,outcomes,theta)\n",
    "        else:\n",
    "            theta_updates[0,i] = partialDerivativeWithW(matrix,outcomes,theta,theta[0,i])\n",
    "    # the update happens here\n",
    "    theta = theta - alpha * theta_updates\n",
    "    return theta"
   ]
  },
  {
   "cell_type": "code",
   "execution_count": 19,
   "metadata": {},
   "outputs": [],
   "source": [
    "def partialDerivativeWithW(matrix,outcomes,theta,theta_j):\n",
    "    m = matrix.shape[0]\n",
    "    summation = 0\n",
    "    for i in range(0, m):\n",
    "        summation += (sigmoidFct(matrix[i],theta) - outcomes[i])*theta_j\n",
    "    return (1/m)*summation"
   ]
  },
  {
   "cell_type": "code",
   "execution_count": 20,
   "metadata": {},
   "outputs": [],
   "source": [
    "def partialDerivativeWithB(matrix,outcomes,theta):\n",
    "    m = matrix.shape[0]\n",
    "    summation = 0\n",
    "    for i in range(0, m):\n",
    "        summation += (sigmoidFct(matrix[i],theta) - outcomes[i])\n",
    "    return (1/m)*summation"
   ]
  },
  {
   "cell_type": "code",
   "execution_count": 21,
   "metadata": {},
   "outputs": [],
   "source": [
    "def plottingFunction(weights,dataset):\n",
    "    # Calculate the intercept and gradient of the decision boundary.\n",
    "    b = -weights[0][0]/weights[0][2]\n",
    "    m = -weights[0][1]/weights[0][2]\n",
    "    x = np.linspace(0, 100, 100)\n",
    "    y = m*x + b\n",
    "    # designing the figure\n",
    "    fig, axes = plt.subplots()\n",
    "    axes.scatter(dataset['exam1'], dataset['exam2'],c=dataset['acceptance'],label='Not Accepted')\n",
    "    axes.set_xlabel('Exam 1')\n",
    "    axes.set_ylabel('Exam 2')\n",
    "    axes.set_title('Admission Data')\n",
    "    plt.plot(x, y)\n",
    "    axes.legend()"
   ]
  },
  {
   "cell_type": "code",
   "execution_count": 22,
   "metadata": {},
   "outputs": [],
   "source": [
    "## Below I will train the model with my own code for logistic regression. Then, I will train it using optimize.fmin"
   ]
  },
  {
   "cell_type": "code",
   "execution_count": 23,
   "metadata": {},
   "outputs": [],
   "source": [
    "weights = np.array([[0.00000001, 100, 50]])"
   ]
  },
  {
   "cell_type": "code",
   "execution_count": 24,
   "metadata": {},
   "outputs": [],
   "source": [
    "# The function below represents before I train my model"
   ]
  },
  {
   "cell_type": "code",
   "execution_count": 25,
   "metadata": {
    "scrolled": true
   },
   "outputs": [
    {
     "data": {
      "image/png": "[encoded data removed]",
      "text/plain": [
       "<Figure size 432x288 with 1 Axes>"
      ]
     },
     "metadata": {
      "needs_background": "light"
     },
     "output_type": "display_data"
    }
   ],
   "source": [
    "plottingFunction(weights,dataset)"
   ]
  },
  {
   "cell_type": "code",
   "execution_count": 26,
   "metadata": {},
   "outputs": [],
   "source": [
    "## Trying to find optimal theta values:\n",
    "## convergence criteria: 10,000 iterations\n",
    "# Initial guess:\n",
    "weights = np.array([[0.00000001, 100, 50]])\n",
    "for i in range(0,10000):\n",
    "    weights = gradientDescent(full_matrix,outcomes,weights,0.1)\n"
   ]
  },
  {
   "cell_type": "code",
   "execution_count": 27,
   "metadata": {},
   "outputs": [
    {
     "data": {
      "image/png": "[encoded data removed]",
      "text/plain": [
       "<Figure size 432x288 with 1 Axes>"
      ]
     },
     "metadata": {
      "needs_background": "light"
     },
     "output_type": "display_data"
    }
   ],
   "source": [
    "# After training:\n",
    "plottingFunction(weights,dataset)"
   ]
  },
  {
   "cell_type": "code",
   "execution_count": 28,
   "metadata": {
    "id": "2RJ87TLKLajL"
   },
   "outputs": [],
   "source": [
    "# your code here"
   ]
  },
  {
   "cell_type": "markdown",
   "metadata": {
    "id": "pV3QVJEDLajM"
   },
   "source": [
    "c) Use the scipy.optimize function ”fmin” to learn the parameter θ\n"
   ]
  },
  {
   "cell_type": "code",
   "execution_count": 29,
   "metadata": {},
   "outputs": [],
   "source": [
    "# I need to change the order of the loss function and cost function inputs for the scipy.optimize.fmin function\n",
    "def lossFunctionFmin(theta, input_matrix, outcomes):\n",
    "    return lossFunction(input_matrix,outcomes,theta)\n",
    "\n",
    "def costFunctionFmin(theta, input_matrix, outcomes):\n",
    "    return costFunction(input_matrix,outcomes,theta)"
   ]
  },
  {
   "cell_type": "code",
   "execution_count": 30,
   "metadata": {},
   "outputs": [
    {
     "data": {
      "image/png": "[encoded data removed]",
      "text/plain": [
       "<Figure size 432x288 with 1 Axes>"
      ]
     },
     "metadata": {
      "needs_background": "light"
     },
     "output_type": "display_data"
    }
   ],
   "source": [
    "theta_init = np.array([[1, 0.1, 0.2]])\n",
    "# before training:\n",
    "plottingFunction(theta_init,dataset)"
   ]
  },
  {
   "cell_type": "code",
   "execution_count": 31,
   "metadata": {
    "id": "KaFsS5MiLajM"
   },
   "outputs": [
    {
     "name": "stdout",
     "output_type": "stream",
     "text": [
      "Optimization terminated successfully.\n",
      "         Current function value: 0.203498\n",
      "         Iterations: 128\n",
      "         Function evaluations: 234\n",
      "Optimal parameters: [array([-25.1613221 ,   0.20623171,   0.20147137])]\n"
     ]
    }
   ],
   "source": [
    "# use fmin to minimize the cost function\n",
    "theta_init = optimize.fmin(costFunctionFmin, x0=theta_init, args=(full_matrix, outcomes))\n",
    "theta_init = [theta_init] # Just doing this to keep the list in the same dimesions as before the function call\n",
    "print(\"Optimal parameters:\", theta_init)"
   ]
  },
  {
   "cell_type": "markdown",
   "metadata": {
    "id": "ETUAhcv8LajM"
   },
   "source": [
    "d) Plot the decision boundary obtained with the data"
   ]
  },
  {
   "cell_type": "code",
   "execution_count": 32,
   "metadata": {
    "scrolled": true
   },
   "outputs": [
    {
     "data": {
      "image/png": "[encoded data removed]",
      "text/plain": [
       "<Figure size 432x288 with 1 Axes>"
      ]
     },
     "metadata": {
      "needs_background": "light"
     },
     "output_type": "display_data"
    }
   ],
   "source": [
    "# After training:\n",
    "plottingFunction(theta_init,dataset)"
   ]
  },
  {
   "cell_type": "markdown",
   "metadata": {
    "id": "o-D5L7Ym5yAh"
   },
   "source": [
    "# Part 2 - Decision Trees"
   ]
  },
  {
   "cell_type": "markdown",
   "metadata": {
    "id": "FcLrg6qELajO"
   },
   "source": [
    "In this exercise, you will build and train decision tree models to predict whether a student gets admitted into a university, using the applicant’s score (pass/fail) on five exams.  "
   ]
  },
  {
   "cell_type": "markdown",
   "metadata": {
    "id": "GPnh4IQc_Kue"
   },
   "source": [
    "### Data Preprocessing"
   ]
  },
  {
   "cell_type": "markdown",
   "metadata": {
    "id": "O4qWLIgc_2V_"
   },
   "source": [
    "a) Given the file ”admission_data2.csv”<br>\n",
    "\n",
    "*   import the data file<br>\n",
    "*   Start by encoding the categorical features in the dataset\n",
    "\n",
    "\n"
   ]
  },
  {
   "cell_type": "code",
   "execution_count": 33,
   "metadata": {
    "id": "cDK2yRV7AQ0r"
   },
   "outputs": [],
   "source": [
    "dataset_for_tree = pd.read_csv('admission_data2.csv',names=['exam1','exam2','exam3','exam4','exam5','acceptance'],index_col=False)"
   ]
  },
  {
   "cell_type": "code",
   "execution_count": 34,
   "metadata": {},
   "outputs": [
    {
     "data": {
      "text/html": [
       "<div>\n",
       "<style scoped>\n",
       "    .dataframe tbody tr th:only-of-type {\n",
       "        vertical-align: middle;\n",
       "    }\n",
       "\n",
       "    .dataframe tbody tr th {\n",
       "        vertical-align: top;\n",
       "    }\n",
       "\n",
       "    .dataframe thead th {\n",
       "        text-align: right;\n",
       "    }\n",
       "</style>\n",
       "<table border=\"1\" class=\"dataframe\">\n",
       "  <thead>\n",
       "    <tr style=\"text-align: right;\">\n",
       "      <th></th>\n",
       "      <th>exam1</th>\n",
       "      <th>exam2</th>\n",
       "      <th>exam3</th>\n",
       "      <th>exam4</th>\n",
       "      <th>exam5</th>\n",
       "      <th>acceptance</th>\n",
       "    </tr>\n",
       "  </thead>\n",
       "  <tbody>\n",
       "    <tr>\n",
       "      <th>0</th>\n",
       "      <td>Fail</td>\n",
       "      <td>Pass</td>\n",
       "      <td>Pass</td>\n",
       "      <td>Fail</td>\n",
       "      <td>Fail</td>\n",
       "      <td>0</td>\n",
       "    </tr>\n",
       "    <tr>\n",
       "      <th>1</th>\n",
       "      <td>Fail</td>\n",
       "      <td>Fail</td>\n",
       "      <td>Pass</td>\n",
       "      <td>Fail</td>\n",
       "      <td>Fail</td>\n",
       "      <td>0</td>\n",
       "    </tr>\n",
       "    <tr>\n",
       "      <th>2</th>\n",
       "      <td>Fail</td>\n",
       "      <td>Pass</td>\n",
       "      <td>Fail</td>\n",
       "      <td>Pass</td>\n",
       "      <td>Fail</td>\n",
       "      <td>0</td>\n",
       "    </tr>\n",
       "    <tr>\n",
       "      <th>3</th>\n",
       "      <td>Pass</td>\n",
       "      <td>Pass</td>\n",
       "      <td>Fail</td>\n",
       "      <td>Pass</td>\n",
       "      <td>Pass</td>\n",
       "      <td>1</td>\n",
       "    </tr>\n",
       "    <tr>\n",
       "      <th>4</th>\n",
       "      <td>Pass</td>\n",
       "      <td>Pass</td>\n",
       "      <td>Pass</td>\n",
       "      <td>Pass</td>\n",
       "      <td>Pass</td>\n",
       "      <td>1</td>\n",
       "    </tr>\n",
       "    <tr>\n",
       "      <th>...</th>\n",
       "      <td>...</td>\n",
       "      <td>...</td>\n",
       "      <td>...</td>\n",
       "      <td>...</td>\n",
       "      <td>...</td>\n",
       "      <td>...</td>\n",
       "    </tr>\n",
       "    <tr>\n",
       "      <th>95</th>\n",
       "      <td>Pass</td>\n",
       "      <td>Fail</td>\n",
       "      <td>Pass</td>\n",
       "      <td>Pass</td>\n",
       "      <td>Fail</td>\n",
       "      <td>1</td>\n",
       "    </tr>\n",
       "    <tr>\n",
       "      <th>96</th>\n",
       "      <td>Fail</td>\n",
       "      <td>Pass</td>\n",
       "      <td>Pass</td>\n",
       "      <td>Pass</td>\n",
       "      <td>Pass</td>\n",
       "      <td>1</td>\n",
       "    </tr>\n",
       "    <tr>\n",
       "      <th>97</th>\n",
       "      <td>Pass</td>\n",
       "      <td>Pass</td>\n",
       "      <td>Pass</td>\n",
       "      <td>Pass</td>\n",
       "      <td>Pass</td>\n",
       "      <td>1</td>\n",
       "    </tr>\n",
       "    <tr>\n",
       "      <th>98</th>\n",
       "      <td>Pass</td>\n",
       "      <td>Pass</td>\n",
       "      <td>Pass</td>\n",
       "      <td>Pass</td>\n",
       "      <td>Pass</td>\n",
       "      <td>1</td>\n",
       "    </tr>\n",
       "    <tr>\n",
       "      <th>99</th>\n",
       "      <td>Pass</td>\n",
       "      <td>Pass</td>\n",
       "      <td>Pass</td>\n",
       "      <td>Fail</td>\n",
       "      <td>Pass</td>\n",
       "      <td>1</td>\n",
       "    </tr>\n",
       "  </tbody>\n",
       "</table>\n",
       "<p>100 rows × 6 columns</p>\n",
       "</div>"
      ],
      "text/plain": [
       "   exam1 exam2  exam3 exam4 exam5  acceptance\n",
       "0   Fail  Pass   Pass  Fail  Fail           0\n",
       "1   Fail  Fail   Pass  Fail  Fail           0\n",
       "2   Fail  Pass   Fail  Pass  Fail           0\n",
       "3   Pass  Pass  Fail   Pass  Pass           1\n",
       "4   Pass  Pass   Pass  Pass  Pass           1\n",
       "..   ...   ...    ...   ...   ...         ...\n",
       "95  Pass  Fail   Pass  Pass  Fail           1\n",
       "96  Fail  Pass   Pass  Pass  Pass           1\n",
       "97  Pass  Pass   Pass  Pass  Pass           1\n",
       "98  Pass  Pass   Pass  Pass  Pass           1\n",
       "99  Pass  Pass   Pass  Fail  Pass           1\n",
       "\n",
       "[100 rows x 6 columns]"
      ]
     },
     "execution_count": 34,
     "metadata": {},
     "output_type": "execute_result"
    }
   ],
   "source": [
    "dataset_for_tree"
   ]
  },
  {
   "cell_type": "markdown",
   "metadata": {
    "id": "ZN4rWSQ3Awc5"
   },
   "source": [
    "b) Build 5 different possible decision trees of height 2 and report the performance of each decision tree model \n",
    "    <br> <b>using the accuracy metric </b>"
   ]
  },
  {
   "cell_type": "code",
   "execution_count": 35,
   "metadata": {},
   "outputs": [],
   "source": [
    "# leave nodes will have prediction in the attribute of exam number\n",
    "class Node:\n",
    "    def __init__(self, left, right, exam):\n",
    "        self.left = left\n",
    "        self.right = right\n",
    "        self.exam_number = exam"
   ]
  },
  {
   "cell_type": "code",
   "execution_count": 36,
   "metadata": {},
   "outputs": [],
   "source": [
    "# The whole tree will have a height of 2. I just set this variable = 1, because it is easier within my code\n",
    "height = 1"
   ]
  },
  {
   "cell_type": "code",
   "execution_count": 37,
   "metadata": {},
   "outputs": [],
   "source": [
    "class Tree:\n",
    "\n",
    "    def recursiveNodeCreator(self,stop,level,value):\n",
    "        value = None\n",
    "        if (stop==level):\n",
    "            return Node(None,None,None)\n",
    "        else: \n",
    "            return Node(self.recursiveNodeCreator(stop,level+1,value),self.recursiveNodeCreator(stop,level+1,value),None)\n",
    "    \n",
    "    def __init__(self,depth,value):\n",
    "        self.root = Node(self.recursiveNodeCreator(depth,1,value),self.recursiveNodeCreator(depth,1,value),None)\n",
    "        self.depth = depth\n",
    "    "
   ]
  },
  {
   "cell_type": "code",
   "execution_count": 38,
   "metadata": {
    "scrolled": true
   },
   "outputs": [
    {
     "data": {
      "text/plain": [
       "Index(['exam1', 'exam2', 'exam3', 'exam4', 'exam5'], dtype='object')"
      ]
     },
     "execution_count": 38,
     "metadata": {},
     "output_type": "execute_result"
    }
   ],
   "source": [
    "# creating a list with the exam numbers\n",
    "dataset_for_tree.columns\n",
    "\n",
    "columns_required =dataset_for_tree.columns[0:5]\n",
    "\n",
    "columns_required "
   ]
  },
  {
   "cell_type": "code",
   "execution_count": 39,
   "metadata": {},
   "outputs": [],
   "source": [
    "import random "
   ]
  },
  {
   "cell_type": "code",
   "execution_count": 40,
   "metadata": {},
   "outputs": [],
   "source": [
    "# adds one more parameter to the list\n",
    "def recursiveTreeValueAdd(dataset_columns,level,Node):\n",
    "    recursiveTreeValueAddAssist(dataset_columns,level,Node,0)"
   ]
  },
  {
   "cell_type": "code",
   "execution_count": 41,
   "metadata": {},
   "outputs": [],
   "source": [
    "# a recursive score that sets the exam representation of a given node. It also sets the prediction at the leave nodes using\n",
    "# a random choice \n",
    "def recursiveTreeValueAddAssist(dataset_columns,level,Node,exams_passed):\n",
    "    stop = height\n",
    "    if ((Node!=None) and (level<stop)):\n",
    "        Node.exam_number = dataset_columns[level]\n",
    "        if (Node.left != None):\n",
    "            recursiveTreeValueAddAssist(dataset_columns,level+1,Node.left,exams_passed)\n",
    "        if (Node.right != None):\n",
    "            recursiveTreeValueAddAssist(dataset_columns,level+1,Node.right,exams_passed+1)\n",
    "    if ((stop==level)):\n",
    "        Node.exam_number = dataset_columns[level]\n",
    "        # Here I set the decision tree as marking the student as accepted if he/she has passed at least 1 exam within the \n",
    "        # exams that were considered in the tree\n",
    "        Node.left.exam_number = (exams_passed>0)\n",
    "        Node.right.exam_number = True"
   ]
  },
  {
   "cell_type": "code",
   "execution_count": 42,
   "metadata": {},
   "outputs": [],
   "source": [
    "MyTree = Tree(height+1,0)"
   ]
  },
  {
   "cell_type": "code",
   "execution_count": 43,
   "metadata": {},
   "outputs": [],
   "source": [
    "recursiveTreeValueAdd(columns_required,0,MyTree.root)"
   ]
  },
  {
   "cell_type": "code",
   "execution_count": 44,
   "metadata": {},
   "outputs": [],
   "source": [
    "def printLevelOrder(root):\n",
    "    if not root:\n",
    "        return\n",
    "\n",
    "    queue = []\n",
    "    queue.append(root)\n",
    "\n",
    "    while queue:\n",
    "        level_size = len(queue)\n",
    "\n",
    "        for i in range(level_size):\n",
    "            node = queue.pop(0)\n",
    "            print(node.exam_number, end=' ')\n",
    "\n",
    "            if node.left:\n",
    "                queue.append(node.left)\n",
    "            if node.right:\n",
    "                queue.append(node.right)\n",
    "\n",
    "        print()"
   ]
  },
  {
   "cell_type": "code",
   "execution_count": 45,
   "metadata": {},
   "outputs": [
    {
     "name": "stdout",
     "output_type": "stream",
     "text": [
      "exam1 \n",
      "exam2 exam2 \n",
      "False True True True \n"
     ]
    }
   ],
   "source": [
    "# Testing\n",
    "printLevelOrder(MyTree.root)"
   ]
  },
  {
   "cell_type": "code",
   "execution_count": 46,
   "metadata": {},
   "outputs": [],
   "source": [
    "# This list will be where the code that builds the trees will get its values\n",
    "# It basically changes the order of the columns to then create different trees\n",
    "columns_final = []\n",
    "for i in range(0,5):\n",
    "    columns_final.append([])\n",
    "    for j in range(0,height+1):\n",
    "        columns_final[i].append(columns_required[(j+i)%5])"
   ]
  },
  {
   "cell_type": "code",
   "execution_count": 47,
   "metadata": {},
   "outputs": [
    {
     "data": {
      "text/plain": [
       "[['exam1', 'exam2'],\n",
       " ['exam2', 'exam3'],\n",
       " ['exam3', 'exam4'],\n",
       " ['exam4', 'exam5'],\n",
       " ['exam5', 'exam1']]"
      ]
     },
     "execution_count": 47,
     "metadata": {},
     "output_type": "execute_result"
    }
   ],
   "source": [
    "columns_final"
   ]
  },
  {
   "cell_type": "code",
   "execution_count": 48,
   "metadata": {},
   "outputs": [
    {
     "name": "stdout",
     "output_type": "stream",
     "text": [
      "New Tree\n",
      "exam1 \n",
      "exam2 exam2 \n",
      "False True True True \n",
      "\n",
      "New Tree\n",
      "exam2 \n",
      "exam3 exam3 \n",
      "False True True True \n",
      "\n",
      "New Tree\n",
      "exam3 \n",
      "exam4 exam4 \n",
      "False True True True \n",
      "\n",
      "New Tree\n",
      "exam4 \n",
      "exam5 exam5 \n",
      "False True True True \n",
      "\n",
      "New Tree\n",
      "exam5 \n",
      "exam1 exam1 \n",
      "False True True True \n",
      "\n"
     ]
    }
   ],
   "source": [
    "# creation of the trees\n",
    "list_of_trees = []\n",
    "for i in range(0,5):\n",
    "    print('New Tree')\n",
    "    list_of_trees.append(Tree(height+1,0))\n",
    "    recursiveTreeValueAdd(columns_final[i], 0, list_of_trees[i].root)\n",
    "    printLevelOrder(list_of_trees[i].root)\n",
    "    print('')"
   ]
  },
  {
   "cell_type": "code",
   "execution_count": 49,
   "metadata": {
    "id": "Zo5x3J1_AzvH"
   },
   "outputs": [],
   "source": [
    "# IMPORTANT NOTE:\n",
    "# I set a simple criteria in my decision tree: If any of the exams were passed, it is predicted as an acceptance."
   ]
  },
  {
   "cell_type": "code",
   "execution_count": null,
   "metadata": {},
   "outputs": [],
   "source": []
  },
  {
   "cell_type": "code",
   "execution_count": 50,
   "metadata": {},
   "outputs": [
    {
     "data": {
      "text/plain": [
       "True"
      ]
     },
     "execution_count": 50,
     "metadata": {},
     "output_type": "execute_result"
    }
   ],
   "source": [
    "(dataset_for_tree[MyTree.root.exam_number][0])=='Fail'"
   ]
  },
  {
   "cell_type": "code",
   "execution_count": 51,
   "metadata": {},
   "outputs": [],
   "source": [
    "# prediction\n",
    "def resultOfCandidate(dataset, candidate_number, node):\n",
    "    if (node.exam_number == False):\n",
    "        return False\n",
    "    elif (node.exam_number == True):\n",
    "        return True\n",
    "    elif (dataset_for_tree[node.exam_number][candidate_number]=='Fail'):\n",
    "        return resultOfCandidate(dataset, candidate_number, node.left)\n",
    "    else: \n",
    "        return resultOfCandidate(dataset, candidate_number, node.right)\n",
    "        "
   ]
  },
  {
   "cell_type": "code",
   "execution_count": 52,
   "metadata": {},
   "outputs": [],
   "source": [
    "# Calculating the number of correct predictions using my tree\n",
    "accuracy_of_trees = []\n",
    "for i in range(5):\n",
    "    count = 0\n",
    "    for j in range(100):\n",
    "        answer = 0\n",
    "        # converting the Boolean output to 0 or 1, representing true or false\n",
    "        if (resultOfCandidate(dataset_for_tree,j,list_of_trees[i].root)):\n",
    "            answer = 1\n",
    "        else: \n",
    "            answer = 0\n",
    "        if (answer == dataset_for_tree['acceptance'][j]):\n",
    "            count += 1\n",
    "    accuracy_of_trees.append(count)"
   ]
  },
  {
   "cell_type": "code",
   "execution_count": 53,
   "metadata": {},
   "outputs": [
    {
     "data": {
      "text/plain": [
       "[65, 64, 51, 54, 66]"
      ]
     },
     "execution_count": 53,
     "metadata": {},
     "output_type": "execute_result"
    }
   ],
   "source": [
    "# These are the accuracy of the 5 different trees\n",
    "accuracy_of_trees"
   ]
  },
  {
   "cell_type": "code",
   "execution_count": 54,
   "metadata": {},
   "outputs": [],
   "source": [
    "# Thus, the accuracy_of_trees list above represents the accuracy of each decision tree. The lowest accuracy achieved is 54 and \n",
    "# the highest achieved is 66. \n",
    "# I did not use the 5-fold validation metric here since it does not make sense. The algorithm does not train on the data and\n",
    "# thus we can test it on the whole data. 5-fold validation is made for algorithms that train on data, in order to reduce the \n",
    "# likelihood that the results shown are outliers."
   ]
  },
  {
   "cell_type": "markdown",
   "metadata": {
    "id": "mRg3WlZ7DVtv"
   },
   "source": [
    "c) Is accuracy a good metric for the provided dataset? Explain. "
   ]
  },
  {
   "cell_type": "markdown",
   "metadata": {
    "id": "vVAj0hkwBKrd"
   },
   "source": [
    "#### your answer here:"
   ]
  },
  {
   "cell_type": "markdown",
   "metadata": {
    "id": "Qhirxr0YLajS"
   },
   "source": [
    "The accuracy metric is not good because it is too general. It obscures whether the correct predictions were true positives \n",
    "or true negatives. It also obscures the false positives or false negatives. A better metric would be both precision and recall.\n",
    "These metrics allow us to properly understand what was properly classified and what was not. From there, we can fine-tune our\n",
    "model based on what metric (precision or recall) we want to improve.\n",
    "Finally, it would be good to use the F1 score to measure the models performace. It would provide a balanced accuracy metric\n",
    "using both precision and recall in its calculation"
   ]
  },
  {
   "cell_type": "markdown",
   "metadata": {
    "id": "okrP97thBo6V"
   },
   "source": [
    "d) Implement the Entropy and Information Gain functions. "
   ]
  },
  {
   "cell_type": "code",
   "execution_count": 56,
   "metadata": {},
   "outputs": [],
   "source": [
    "import math"
   ]
  },
  {
   "cell_type": "code",
   "execution_count": 57,
   "metadata": {},
   "outputs": [],
   "source": [
    "def entropyFunction(p1):\n",
    "    eps = 1e-10  # small value added to avoid math domain errors\n",
    "    p0 = 1-p1\n",
    "    return -1*(p1*math.log(p1+eps,2)+p0*math.log(p0+eps,2))"
   ]
  },
  {
   "cell_type": "code",
   "execution_count": 58,
   "metadata": {},
   "outputs": [],
   "source": [
    "def informationGain(hRoot,hLeft,hRight,wLeft,wRight):\n",
    "    return hRoot - (wLeft*hLeft + wRight*hRight)"
   ]
  },
  {
   "cell_type": "code",
   "execution_count": 59,
   "metadata": {},
   "outputs": [],
   "source": [
    "def calculationOfGain(column,dataset):\n",
    "    results_information_gain = []\n",
    "    count = dataset['acceptance'].value_counts()[1]/len(dataset)\n",
    "    hRoot = entropyFunction(count)\n",
    "    \n",
    "    # information needed to calculate entropy and information gain\n",
    "    # for the left\n",
    "    if ((False not in dataset[column]) | True not in dataset[column]):\n",
    "        return 1\n",
    "    sample_size_left = dataset[column].value_counts()[False] \n",
    "    dataset_left = dataset[(dataset[column] != True)]\n",
    "    acceptance_counts = dataset_left['acceptance'].value_counts()\n",
    "    correct_cases_left = acceptance_counts[1] if 1 in acceptance_counts else 0\n",
    "\n",
    "    hLeft = entropyFunction(correct_cases_left/sample_size_left)\n",
    "    wLeft = sample_size_left/len(dataset)\n",
    "    # for the right\n",
    "    sample_size_right = dataset[column].value_counts()[True] \n",
    "    dataset_right = dataset[(dataset[column] != False)] \n",
    "    acceptance_counts = dataset_right['acceptance'].value_counts()\n",
    "    correct_cases_right = acceptance_counts[1] if 1 in acceptance_counts else 0\n",
    "    hRight = entropyFunction(correct_cases_right/sample_size_right)\n",
    "    wRight = sample_size_right/len(dataset)\n",
    "                            \n",
    "    # We now have all information needed to call the information gain\n",
    "    return informationGain(hRoot,hLeft,hRight,wLeft,wRight)\n"
   ]
  },
  {
   "cell_type": "code",
   "execution_count": 60,
   "metadata": {
    "id": "i3Z-gl2SBsy1"
   },
   "outputs": [],
   "source": [
    "# your code here"
   ]
  },
  {
   "cell_type": "markdown",
   "metadata": {
    "id": "CuqP3IgNB1IT"
   },
   "source": [
    "-\tBuild a decision tree model that maximizes the information gain at every split, and experiment with different stopping criteria: <br>\n",
    "    * Experiment with 3 different maximum tree heights <br>\n",
    "    * Experiment with 3 different minimum thresholds for information gain <br>\n",
    "    * Experiment with 3 different thresholds for the minimum number of examples to split on <br>\n",
    "    * Report the results of all your experiments in a table and highlight the parameters and stopping condition for your best performing model. \n"
   ]
  },
  {
   "cell_type": "code",
   "execution_count": 61,
   "metadata": {},
   "outputs": [],
   "source": [
    "# finds the best potential feature at any given level\n",
    "def bestFeatureAtLevel(dataset,columns_required):\n",
    "    max_value = [-1,'placeholder']\n",
    "    for i in (columns_required):\n",
    "        if i != False:\n",
    "            result = calculationOfGain(i,dataset)\n",
    "            if (result > max_value[0]):\n",
    "                max_value[0] = result\n",
    "                max_value[1] = i\n",
    "    return max_value[1]"
   ]
  },
  {
   "cell_type": "code",
   "execution_count": 62,
   "metadata": {},
   "outputs": [],
   "source": [
    "# This function basically calls a function that finds the most important feature, then provides the current node with that value,\n",
    "#, creates two subbranches and creates the relevant information it needs to perform its functionalities, by calling itself\n",
    "# recursively\n",
    "\n",
    "def subTreeCreator(dataset,inner_columns,node,level,stopping_criteria,stopping_criteria_input):\n",
    "    # base cases\n",
    "    unique_values = dataset['acceptance'].unique()\n",
    "    if len(unique_values) == 1:\n",
    "        node.exam_number = unique_values[0]\n",
    "        return node\n",
    "    if (stopping_criteria =='stoppingCriteriaHeight'):\n",
    "        if (stoppingCriteriaHeight(level,stopping_criteria_input)):\n",
    "            return exitingTreeCreator(dataset,node)\n",
    "    \n",
    "    if (len(inner_columns)==0):\n",
    "        return exitingTreeCreator(dataset,node)\n",
    "    \n",
    "    feature_split = bestFeatureAtLevel(dataset,inner_columns)\n",
    "\n",
    "    if (stopping_criteria=='stoppingCriteriaInfoGain'):\n",
    "        if(stoppingCriteriaInfoGain(feature_split,dataset,stopping_criteria_input)):\n",
    "            return exitingTreeCreator(dataset,node)\n",
    "    \n",
    "    # creating subsets based on feature:\n",
    "    dataset_left_branch = dataset[(dataset[feature_split] != True)]\n",
    "    dataset_right_branch = dataset[(dataset[feature_split] != False)]\n",
    "    \n",
    "    # another potential stopping condition:\n",
    "    if (stopping_criteria == 'stoppingCriteriaMinSample'):\n",
    "        if (stoppingCriteriaMinSample(len(dataset_left_branch),len(dataset_right_branch),stopping_criteria_input)):\n",
    "            return exitingTreeCreator(dataset,node)\n",
    "    \n",
    "    if (level==6):\n",
    "            return exitingTreeCreator(dataset,node)\n",
    "    \n",
    "    sub_features = create_new_list(inner_columns,feature_split)\n",
    "    # providing value to node\n",
    "    node.exam_number = feature_split\n",
    "    # recursive calls\n",
    "    if (dataset_left_branch.empty | dataset_right_branch.empty):\n",
    "        return exitingTreeCreator(dataset,node)\n",
    "    else:\n",
    "        node.left = subTreeCreator(dataset_left_branch,sub_features,Node(None,None,None),level+1,stopping_criteria,stopping_criteria_input)\n",
    "        node.right = subTreeCreator(dataset_right_branch,sub_features,Node(None,None,None),level+1,stopping_criteria,stopping_criteria_input)\n",
    "    \n",
    "    return node\n"
   ]
  },
  {
   "cell_type": "code",
   "execution_count": 63,
   "metadata": {},
   "outputs": [
    {
     "data": {
      "text/plain": [
       "100"
      ]
     },
     "execution_count": 63,
     "metadata": {},
     "output_type": "execute_result"
    }
   ],
   "source": [
    "len(dataset_for_tree)"
   ]
  },
  {
   "cell_type": "code",
   "execution_count": 64,
   "metadata": {},
   "outputs": [],
   "source": [
    "# a function used in the subTreeCreater above. It helps exit the recursive calls\n",
    "def exitingTreeCreator(dataset,node):\n",
    "    #print(dataset['acceptance'])\n",
    "    unique_values = dataset['acceptance'].unique()\n",
    "    if len(unique_values) == 1:\n",
    "        node.exam_number = unique_values[0]\n",
    "        return node\n",
    "    else:\n",
    "        #print(\"ELSE STATEMENT\")\n",
    "        #print(dataset['acceptance'])\n",
    "        node.exam_number = round(dataset['acceptance'].value_counts()[1]/len(dataset),2)\n",
    "    return node"
   ]
  },
  {
   "cell_type": "code",
   "execution_count": 65,
   "metadata": {},
   "outputs": [],
   "source": [
    "# one of the stopping criterias\n",
    "def stoppingCriteriaHeight(level,desired):\n",
    "    if(level==desired):\n",
    "        return True"
   ]
  },
  {
   "cell_type": "code",
   "execution_count": 66,
   "metadata": {
    "id": "qWFjUDmPCODu"
   },
   "outputs": [],
   "source": [
    "# one of the stopping criterias\n",
    "def stoppingCriteriaInfoGain(feature,dataset,minimum_threshold):\n",
    "    highest_gain = calculationOfGain(feature,dataset)\n",
    "    return (highest_gain<minimum_threshold)"
   ]
  },
  {
   "cell_type": "code",
   "execution_count": 67,
   "metadata": {},
   "outputs": [],
   "source": [
    "# one of the stopping criterias\n",
    "def stoppingCriteriaMinSample(left_split,right_split,split_criteria):\n",
    "    if ((left_split<split_criteria) | (right_split<split_criteria)):\n",
    "        return True\n",
    "    else:\n",
    "        return False"
   ]
  },
  {
   "cell_type": "code",
   "execution_count": 68,
   "metadata": {},
   "outputs": [],
   "source": [
    "def create_new_list(old,feature):\n",
    "    new_list = []\n",
    "    for i in (old):\n",
    "        if (i!=feature):\n",
    "            new_list.append(i)\n",
    "    return new_list"
   ]
  },
  {
   "cell_type": "code",
   "execution_count": 69,
   "metadata": {},
   "outputs": [],
   "source": [
    "# creating a new dataset with Binary values instead of pass/fail. The next couple of cells will be dedicated to this process\n",
    "binary_dataset = dataset_for_tree.copy(deep=True)\n",
    "binary_dataset.replace({'Fail': False, 'Pass': True}, inplace=True)\n"
   ]
  },
  {
   "cell_type": "code",
   "execution_count": 70,
   "metadata": {},
   "outputs": [
    {
     "data": {
      "text/html": [
       "<div>\n",
       "<style scoped>\n",
       "    .dataframe tbody tr th:only-of-type {\n",
       "        vertical-align: middle;\n",
       "    }\n",
       "\n",
       "    .dataframe tbody tr th {\n",
       "        vertical-align: top;\n",
       "    }\n",
       "\n",
       "    .dataframe thead th {\n",
       "        text-align: right;\n",
       "    }\n",
       "</style>\n",
       "<table border=\"1\" class=\"dataframe\">\n",
       "  <thead>\n",
       "    <tr style=\"text-align: right;\">\n",
       "      <th></th>\n",
       "      <th>exam3</th>\n",
       "      <th>exam5</th>\n",
       "    </tr>\n",
       "  </thead>\n",
       "  <tbody>\n",
       "    <tr>\n",
       "      <th>0</th>\n",
       "      <td>True</td>\n",
       "      <td>False</td>\n",
       "    </tr>\n",
       "    <tr>\n",
       "      <th>1</th>\n",
       "      <td>True</td>\n",
       "      <td>False</td>\n",
       "    </tr>\n",
       "    <tr>\n",
       "      <th>2</th>\n",
       "      <td>False</td>\n",
       "      <td>False</td>\n",
       "    </tr>\n",
       "    <tr>\n",
       "      <th>3</th>\n",
       "      <td>Fail</td>\n",
       "      <td>True</td>\n",
       "    </tr>\n",
       "    <tr>\n",
       "      <th>4</th>\n",
       "      <td>True</td>\n",
       "      <td>True</td>\n",
       "    </tr>\n",
       "    <tr>\n",
       "      <th>...</th>\n",
       "      <td>...</td>\n",
       "      <td>...</td>\n",
       "    </tr>\n",
       "    <tr>\n",
       "      <th>95</th>\n",
       "      <td>True</td>\n",
       "      <td>False</td>\n",
       "    </tr>\n",
       "    <tr>\n",
       "      <th>96</th>\n",
       "      <td>True</td>\n",
       "      <td>True</td>\n",
       "    </tr>\n",
       "    <tr>\n",
       "      <th>97</th>\n",
       "      <td>True</td>\n",
       "      <td>True</td>\n",
       "    </tr>\n",
       "    <tr>\n",
       "      <th>98</th>\n",
       "      <td>True</td>\n",
       "      <td>True</td>\n",
       "    </tr>\n",
       "    <tr>\n",
       "      <th>99</th>\n",
       "      <td>True</td>\n",
       "      <td>True</td>\n",
       "    </tr>\n",
       "  </tbody>\n",
       "</table>\n",
       "<p>100 rows × 2 columns</p>\n",
       "</div>"
      ],
      "text/plain": [
       "    exam3  exam5\n",
       "0    True  False\n",
       "1    True  False\n",
       "2   False  False\n",
       "3   Fail    True\n",
       "4    True   True\n",
       "..    ...    ...\n",
       "95   True  False\n",
       "96   True   True\n",
       "97   True   True\n",
       "98   True   True\n",
       "99   True   True\n",
       "\n",
       "[100 rows x 2 columns]"
      ]
     },
     "execution_count": 70,
     "metadata": {},
     "output_type": "execute_result"
    }
   ],
   "source": [
    "# checking for values which were not changed\n",
    "binary_dataset.loc[:, ~binary_dataset.isin([True, False]).all()]"
   ]
  },
  {
   "cell_type": "code",
   "execution_count": 71,
   "metadata": {},
   "outputs": [
    {
     "data": {
      "text/html": [
       "<div>\n",
       "<style scoped>\n",
       "    .dataframe tbody tr th:only-of-type {\n",
       "        vertical-align: middle;\n",
       "    }\n",
       "\n",
       "    .dataframe tbody tr th {\n",
       "        vertical-align: top;\n",
       "    }\n",
       "\n",
       "    .dataframe thead th {\n",
       "        text-align: right;\n",
       "    }\n",
       "</style>\n",
       "<table border=\"1\" class=\"dataframe\">\n",
       "  <thead>\n",
       "    <tr style=\"text-align: right;\">\n",
       "      <th></th>\n",
       "      <th>exam1</th>\n",
       "      <th>exam2</th>\n",
       "      <th>exam3</th>\n",
       "      <th>exam4</th>\n",
       "      <th>exam5</th>\n",
       "      <th>acceptance</th>\n",
       "    </tr>\n",
       "  </thead>\n",
       "  <tbody>\n",
       "    <tr>\n",
       "      <th>3</th>\n",
       "      <td>True</td>\n",
       "      <td>True</td>\n",
       "      <td>Fail</td>\n",
       "      <td>True</td>\n",
       "      <td>True</td>\n",
       "      <td>1</td>\n",
       "    </tr>\n",
       "  </tbody>\n",
       "</table>\n",
       "</div>"
      ],
      "text/plain": [
       "   exam1  exam2  exam3  exam4 exam5  acceptance\n",
       "3   True   True  Fail    True  True           1"
      ]
     },
     "execution_count": 71,
     "metadata": {},
     "output_type": "execute_result"
    }
   ],
   "source": [
    "binary_dataset[3:4]"
   ]
  },
  {
   "cell_type": "code",
   "execution_count": 72,
   "metadata": {},
   "outputs": [],
   "source": [
    "binary_dataset.at[3, 'exam3'] = False\n"
   ]
  },
  {
   "cell_type": "code",
   "execution_count": 73,
   "metadata": {
    "scrolled": true
   },
   "outputs": [
    {
     "data": {
      "text/html": [
       "<div>\n",
       "<style scoped>\n",
       "    .dataframe tbody tr th:only-of-type {\n",
       "        vertical-align: middle;\n",
       "    }\n",
       "\n",
       "    .dataframe tbody tr th {\n",
       "        vertical-align: top;\n",
       "    }\n",
       "\n",
       "    .dataframe thead th {\n",
       "        text-align: right;\n",
       "    }\n",
       "</style>\n",
       "<table border=\"1\" class=\"dataframe\">\n",
       "  <thead>\n",
       "    <tr style=\"text-align: right;\">\n",
       "      <th></th>\n",
       "      <th>exam1</th>\n",
       "      <th>exam2</th>\n",
       "      <th>exam3</th>\n",
       "      <th>exam4</th>\n",
       "      <th>exam5</th>\n",
       "      <th>acceptance</th>\n",
       "    </tr>\n",
       "  </thead>\n",
       "  <tbody>\n",
       "    <tr>\n",
       "      <th>3</th>\n",
       "      <td>True</td>\n",
       "      <td>True</td>\n",
       "      <td>False</td>\n",
       "      <td>True</td>\n",
       "      <td>True</td>\n",
       "      <td>1</td>\n",
       "    </tr>\n",
       "  </tbody>\n",
       "</table>\n",
       "</div>"
      ],
      "text/plain": [
       "   exam1  exam2  exam3  exam4 exam5  acceptance\n",
       "3   True   True  False   True  True           1"
      ]
     },
     "execution_count": 73,
     "metadata": {},
     "output_type": "execute_result"
    }
   ],
   "source": [
    "binary_dataset[3:4]"
   ]
  },
  {
   "cell_type": "code",
   "execution_count": 74,
   "metadata": {},
   "outputs": [],
   "source": [
    "temporary = binary_dataset.loc[:, ~binary_dataset.isin([True, False]).all()]"
   ]
  },
  {
   "cell_type": "code",
   "execution_count": 75,
   "metadata": {},
   "outputs": [
    {
     "name": "stdout",
     "output_type": "stream",
     "text": [
      "[10]\n"
     ]
    }
   ],
   "source": [
    "for i in range(100):\n",
    "    if (temporary['exam5'][i] != True and temporary['exam5'][i]!=False):\n",
    "        print([i])"
   ]
  },
  {
   "cell_type": "code",
   "execution_count": 76,
   "metadata": {},
   "outputs": [
    {
     "data": {
      "text/html": [
       "<div>\n",
       "<style scoped>\n",
       "    .dataframe tbody tr th:only-of-type {\n",
       "        vertical-align: middle;\n",
       "    }\n",
       "\n",
       "    .dataframe tbody tr th {\n",
       "        vertical-align: top;\n",
       "    }\n",
       "\n",
       "    .dataframe thead th {\n",
       "        text-align: right;\n",
       "    }\n",
       "</style>\n",
       "<table border=\"1\" class=\"dataframe\">\n",
       "  <thead>\n",
       "    <tr style=\"text-align: right;\">\n",
       "      <th></th>\n",
       "      <th>exam1</th>\n",
       "      <th>exam2</th>\n",
       "      <th>exam3</th>\n",
       "      <th>exam4</th>\n",
       "      <th>exam5</th>\n",
       "      <th>acceptance</th>\n",
       "    </tr>\n",
       "  </thead>\n",
       "  <tbody>\n",
       "    <tr>\n",
       "      <th>10</th>\n",
       "      <td>True</td>\n",
       "      <td>False</td>\n",
       "      <td>True</td>\n",
       "      <td>True</td>\n",
       "      <td>Fail</td>\n",
       "      <td>0</td>\n",
       "    </tr>\n",
       "  </tbody>\n",
       "</table>\n",
       "</div>"
      ],
      "text/plain": [
       "    exam1  exam2 exam3  exam4  exam5  acceptance\n",
       "10   True  False  True   True  Fail            0"
      ]
     },
     "execution_count": 76,
     "metadata": {},
     "output_type": "execute_result"
    }
   ],
   "source": [
    "binary_dataset[10:11]"
   ]
  },
  {
   "cell_type": "code",
   "execution_count": 77,
   "metadata": {},
   "outputs": [],
   "source": [
    "binary_dataset.at[10, 'exam5'] = False\n"
   ]
  },
  {
   "cell_type": "code",
   "execution_count": 78,
   "metadata": {},
   "outputs": [
    {
     "data": {
      "text/html": [
       "<div>\n",
       "<style scoped>\n",
       "    .dataframe tbody tr th:only-of-type {\n",
       "        vertical-align: middle;\n",
       "    }\n",
       "\n",
       "    .dataframe tbody tr th {\n",
       "        vertical-align: top;\n",
       "    }\n",
       "\n",
       "    .dataframe thead th {\n",
       "        text-align: right;\n",
       "    }\n",
       "</style>\n",
       "<table border=\"1\" class=\"dataframe\">\n",
       "  <thead>\n",
       "    <tr style=\"text-align: right;\">\n",
       "      <th></th>\n",
       "    </tr>\n",
       "  </thead>\n",
       "  <tbody>\n",
       "    <tr>\n",
       "      <th>0</th>\n",
       "    </tr>\n",
       "    <tr>\n",
       "      <th>1</th>\n",
       "    </tr>\n",
       "    <tr>\n",
       "      <th>2</th>\n",
       "    </tr>\n",
       "    <tr>\n",
       "      <th>3</th>\n",
       "    </tr>\n",
       "    <tr>\n",
       "      <th>4</th>\n",
       "    </tr>\n",
       "    <tr>\n",
       "      <th>...</th>\n",
       "    </tr>\n",
       "    <tr>\n",
       "      <th>95</th>\n",
       "    </tr>\n",
       "    <tr>\n",
       "      <th>96</th>\n",
       "    </tr>\n",
       "    <tr>\n",
       "      <th>97</th>\n",
       "    </tr>\n",
       "    <tr>\n",
       "      <th>98</th>\n",
       "    </tr>\n",
       "    <tr>\n",
       "      <th>99</th>\n",
       "    </tr>\n",
       "  </tbody>\n",
       "</table>\n",
       "<p>100 rows × 0 columns</p>\n",
       "</div>"
      ],
      "text/plain": [
       "Empty DataFrame\n",
       "Columns: []\n",
       "Index: [0, 1, 2, 3, 4, 5, 6, 7, 8, 9, 10, 11, 12, 13, 14, 15, 16, 17, 18, 19, 20, 21, 22, 23, 24, 25, 26, 27, 28, 29, 30, 31, 32, 33, 34, 35, 36, 37, 38, 39, 40, 41, 42, 43, 44, 45, 46, 47, 48, 49, 50, 51, 52, 53, 54, 55, 56, 57, 58, 59, 60, 61, 62, 63, 64, 65, 66, 67, 68, 69, 70, 71, 72, 73, 74, 75, 76, 77, 78, 79, 80, 81, 82, 83, 84, 85, 86, 87, 88, 89, 90, 91, 92, 93, 94, 95, 96, 97, 98, 99]\n",
       "\n",
       "[100 rows x 0 columns]"
      ]
     },
     "execution_count": 78,
     "metadata": {},
     "output_type": "execute_result"
    }
   ],
   "source": [
    "binary_dataset.loc[:, ~binary_dataset.isin([True, False]).all()]"
   ]
  },
  {
   "cell_type": "code",
   "execution_count": 79,
   "metadata": {},
   "outputs": [],
   "source": [
    "## The above process of converting the dataset into binary is complete"
   ]
  },
  {
   "cell_type": "code",
   "execution_count": 80,
   "metadata": {},
   "outputs": [],
   "source": [
    "# class that will predict whether an instance was well classified\n",
    "def prediction(node,x,y):\n",
    "    threshold = 0.5\n",
    "    value = node.exam_number\n",
    "    if (isinstance(value, np.integer) | isinstance(value, np.float64)):\n",
    "        if (value>=0.5):\n",
    "            return 1\n",
    "        else: \n",
    "            return 0\n",
    "    else:\n",
    "        extracted_digit = node.exam_number[4]\n",
    "        # convert a character to an integer\n",
    "        extracted_digit = ord(extracted_digit) - ord('0')\n",
    "        result_of_exam = x[extracted_digit-1]\n",
    "\n",
    "        if (result_of_exam==False):\n",
    "            return prediction(node.left,x,y)\n",
    "        if (result_of_exam==True):\n",
    "            return prediction(node.right,x,y)"
   ]
  },
  {
   "cell_type": "code",
   "execution_count": 81,
   "metadata": {},
   "outputs": [],
   "source": [
    "# prediction for the whole X_test\n",
    "def predictingFullTrain(root,X_test, y_test):\n",
    "    # re-indexing to avoid index out of bound errors\n",
    "    y_test = y_test.reset_index(drop=True)\n",
    "    X_test = X_test.reset_index(drop=True)\n",
    "    result_list = [0,0,0,0]\n",
    "    # looping over entire testing set and calculating predictions\n",
    "    for i in range(len(X_test)):\n",
    "        true_outcome = y_test[i]\n",
    "        x = X_test.iloc[i].values\n",
    "        result = prediction(root,x,true_outcome) # calculates the prediction for a given person\n",
    "        performanceMetric(result,true_outcome,result_list) # calculates performance\n",
    "    result_dict = labelResults(result_list)\n",
    "    return result_dict # reports performance"
   ]
  },
  {
   "cell_type": "code",
   "execution_count": 82,
   "metadata": {},
   "outputs": [],
   "source": [
    "# Creating a list with true positive, true, negative, false positive, false negative scores\n",
    "def performanceMetric(prediction,outcome,result_list):\n",
    "    if (prediction==0):\n",
    "        if (prediction==outcome):\n",
    "            result = 0 ## true negative\n",
    "        else:\n",
    "            result = 1  ## false negative\n",
    "    if (prediction==1):\n",
    "        if (prediction==outcome):\n",
    "            result = 2 ## true positive\n",
    "        else:\n",
    "            result = 3  ## false positive\n",
    "    result_list[result] += 1"
   ]
  },
  {
   "cell_type": "code",
   "execution_count": 83,
   "metadata": {},
   "outputs": [],
   "source": [
    "# adding precision + recall+ F1 + converting to dictionary\n",
    "def labelResults(result_list):\n",
    "    precision = result_list[2] / (result_list[2]+result_list[3])\n",
    "    recall = result_list[2] / (result_list[2]+result_list[1])\n",
    "    F1_score = 2 * (precision * recall) / (precision + recall)\n",
    "    result_list_new = [['True Negatives:', result_list[0]], ['False Negatives:', result_list[1]], ['True Positives', result_list[2]], ['False Positives', result_list[3]]]\n",
    "    result_dict = {item[0]: item[1] for item in result_list_new}\n",
    "    result_dict['Precision'] = round(precision,2)\n",
    "    result_dict['recall'] = round(recall,2)\n",
    "    result_dict['F1_score'] = round(F1_score,2)\n",
    "    return result_dict\n"
   ]
  },
  {
   "cell_type": "code",
   "execution_count": 84,
   "metadata": {},
   "outputs": [],
   "source": [
    "# Calculates the result of multiples tress calling the functions above\n",
    "def calculateBundleOfTrees(root_list, X_test,y_test):\n",
    "    output_dict = dict()\n",
    "    for i in range(len(root_list)):\n",
    "        output_dict[f'Tree{i}'] = predictingFullTrain(root_list[i],X_test,y_test)\n",
    "    return output_dict"
   ]
  },
  {
   "cell_type": "code",
   "execution_count": 85,
   "metadata": {},
   "outputs": [],
   "source": [
    "# I need to use this library to manage to do a 5-fold cross validation. I am just using the library to create the datasets, \n",
    "# and nothing else. I will be used in the functino five_fold_cross_val below:\n",
    "from sklearn.model_selection import KFold"
   ]
  },
  {
   "cell_type": "markdown",
   "metadata": {},
   "source": [
    "### Still need to add the parameters that changes the base case of the creator"
   ]
  },
  {
   "cell_type": "code",
   "execution_count": 86,
   "metadata": {},
   "outputs": [],
   "source": [
    "# This creates the separate datasets, calls on the other functions to create the decision trees, tests the decision trees and \n",
    "# returns all of the outcomes in the form of a dictionary\n",
    "\n",
    "def fiveFoldCrossVal(dataset,stopping_criteria,stopping_criteria_input):\n",
    "    all_models = dict()\n",
    "    # Initializing the 5-fold cross-validation\n",
    "    kf = KFold(n_splits=5, shuffle=True, random_state=42)\n",
    "    index = 0\n",
    "    for train_index, test_index in kf.split(dataset):\n",
    "        different_parameter_tree = []\n",
    "        # Split the data into training and testing sets for this fold\n",
    "        X_train, X_test = dataset.iloc[train_index], dataset.iloc[test_index]\n",
    "        y_train, y_test = X_train['acceptance'], X_test['acceptance']\n",
    "        X_train.drop('acceptance', axis=1, inplace=True)\n",
    "        X_test.drop('acceptance', axis=1, inplace=True)\n",
    "    \n",
    "        train_data = pd.concat([X_train, y_train], axis=1)\n",
    "\n",
    "        # changing the type of the list\n",
    "        features_list = []\n",
    "        for i in range(5):\n",
    "            features_list.append(columns_required[i])\n",
    "        # creating the decision tree\n",
    "        for j in range(0,3):\n",
    "            root = subTreeCreator(train_data,features_list,Node(None,None,None),0,stopping_criteria,stopping_criteria_input[j])\n",
    "            different_parameter_tree.append(root)\n",
    "        # testing the decision tree\n",
    "        result_dict = calculateBundleOfTrees(different_parameter_tree,X_test,y_test)\n",
    "        # retrives the highest F1 score of the ith level of cross validation\n",
    "        all_models[f'iteration{index}'] = result_dict\n",
    "        index +=1\n",
    "    return all_models"
   ]
  },
  {
   "cell_type": "markdown",
   "metadata": {},
   "source": [
    "stopping_criteria_input[j]"
   ]
  },
  {
   "cell_type": "code",
   "execution_count": 87,
   "metadata": {},
   "outputs": [],
   "source": [
    "# this will calculate the average of all cross validations \n",
    "def averagesCrossVal(all_models,number_of_trees):\n",
    "    all_averages = dict()\n",
    "    for i in range(number_of_trees):\n",
    "        total = 0\n",
    "        for j in range(5):\n",
    "            total += all_models[f'iteration{j}'][f'Tree{i}']['F1_score']\n",
    "            \n",
    "        average = total/5\n",
    "        all_averages[f'Tree{i}'] = average\n",
    "    return all_averages\n",
    "\n",
    "    "
   ]
  },
  {
   "cell_type": "code",
   "execution_count": 88,
   "metadata": {},
   "outputs": [],
   "source": [
    "# returns max element in dictionary\n",
    "def bestPerforming(dictionary):\n",
    "    return max(dictionary, key=lambda k: dictionary[k])"
   ]
  },
  {
   "cell_type": "code",
   "execution_count": 89,
   "metadata": {},
   "outputs": [],
   "source": [
    "# can perform the whole process of creating the trees and testing them\n",
    "def fullProcess(dataset,stopping_criteria,stopping_criteria_input):\n",
    "    all_models = fiveFoldCrossVal(dataset,stopping_criteria,stopping_criteria_input)\n",
    "    averages = averagesCrossVal(all_models,3) # I might need to change this 3 later\n",
    "    return bestPerforming(averages)"
   ]
  },
  {
   "cell_type": "code",
   "execution_count": 90,
   "metadata": {},
   "outputs": [],
   "source": [
    "# removes keys that are not needed to create the table\n",
    "def remove_keys(dictionary,new_names):\n",
    "    for i in dictionary:\n",
    "        for j in dictionary[i]:\n",
    "            dictionary[i][j] = {k: v for k, v in dictionary[i][j].items() if k in 'F1_score'}\n",
    "        \n",
    "        dictionary[i] = {new_names[z]: v for z, (k, v) in enumerate(dictionary[i].items())}\n",
    "\n",
    "    return dictionary"
   ]
  },
  {
   "cell_type": "code",
   "execution_count": 91,
   "metadata": {},
   "outputs": [],
   "source": [
    "# to add title to table\n",
    "from IPython.display import Markdown"
   ]
  },
  {
   "cell_type": "code",
   "execution_count": 92,
   "metadata": {},
   "outputs": [],
   "source": [
    "# code to create the table:\n",
    "def tableCreator(data,title,new_names):\n",
    "    data = remove_keys(data,new_names)\n",
    "    data_list = [(iteration, tree, score['F1_score']) for iteration in data for tree, score in data[iteration].items()]\n",
    "    df = pd.DataFrame(data_list, columns=['Iteration', 'Criteria', 'F1_score'])\n",
    "    table = pd.pivot_table(df, values='F1_score', index='Iteration', columns='Criteria',\n",
    "                          margins=True, margins_name='Average', aggfunc='mean',\n",
    "                           fill_value='-')\n",
    "    display(Markdown(f\"F1 scores; 5-fold Cross Validation. Stopping Criteria:{title}\"))\n",
    "    display(table)\n",
    "    return table"
   ]
  },
  {
   "cell_type": "code",
   "execution_count": 93,
   "metadata": {},
   "outputs": [],
   "source": [
    "# these are all the possible stopping criteria that will be used\n",
    "stop_criteria_list = ['stoppingCriteriaHeight','stoppingCriteriaInfoGain','stoppingCriteriaMinSample']"
   ]
  },
  {
   "cell_type": "code",
   "execution_count": 94,
   "metadata": {},
   "outputs": [],
   "source": [
    "stop_criteria_dict = dict()\n",
    "stop_criteria_dict[stop_criteria_list[0]] = [2,3,4]  # different levels of stop criteria: height\n",
    "stop_criteria_dict[stop_criteria_list[1]] = [0.02,0.15,0.23]  # different info gain \n",
    "stop_criteria_dict[stop_criteria_list[2]] = [1,15,40]  # different min sample options"
   ]
  },
  {
   "cell_type": "code",
   "execution_count": 95,
   "metadata": {},
   "outputs": [
    {
     "data": {
      "text/plain": [
       "'stoppingCriteriaHeight'"
      ]
     },
     "execution_count": 95,
     "metadata": {},
     "output_type": "execute_result"
    }
   ],
   "source": [
    "stop_criteria_list[0]"
   ]
  },
  {
   "cell_type": "code",
   "execution_count": 96,
   "metadata": {},
   "outputs": [
    {
     "data": {
      "text/plain": [
       "[2, 3, 4]"
      ]
     },
     "execution_count": 96,
     "metadata": {},
     "output_type": "execute_result"
    }
   ],
   "source": [
    "stop_criteria_dict[stop_criteria_list[0]]"
   ]
  },
  {
   "cell_type": "code",
   "execution_count": 97,
   "metadata": {
    "scrolled": true
   },
   "outputs": [
    {
     "name": "stderr",
     "output_type": "stream",
     "text": [
      "C:\\Users\\olive\\anaconda3\\lib\\site-packages\\pandas\\core\\frame.py:4308: SettingWithCopyWarning: \n",
      "A value is trying to be set on a copy of a slice from a DataFrame\n",
      "\n",
      "See the caveats in the documentation: https://pandas.pydata.org/pandas-docs/stable/user_guide/indexing.html#returning-a-view-versus-a-copy\n",
      "  return super().drop(\n",
      "C:\\Users\\olive\\anaconda3\\lib\\site-packages\\pandas\\core\\frame.py:4308: SettingWithCopyWarning: \n",
      "A value is trying to be set on a copy of a slice from a DataFrame\n",
      "\n",
      "See the caveats in the documentation: https://pandas.pydata.org/pandas-docs/stable/user_guide/indexing.html#returning-a-view-versus-a-copy\n",
      "  return super().drop(\n",
      "C:\\Users\\olive\\anaconda3\\lib\\site-packages\\pandas\\core\\frame.py:4308: SettingWithCopyWarning: \n",
      "A value is trying to be set on a copy of a slice from a DataFrame\n",
      "\n",
      "See the caveats in the documentation: https://pandas.pydata.org/pandas-docs/stable/user_guide/indexing.html#returning-a-view-versus-a-copy\n",
      "  return super().drop(\n",
      "C:\\Users\\olive\\anaconda3\\lib\\site-packages\\pandas\\core\\frame.py:4308: SettingWithCopyWarning: \n",
      "A value is trying to be set on a copy of a slice from a DataFrame\n",
      "\n",
      "See the caveats in the documentation: https://pandas.pydata.org/pandas-docs/stable/user_guide/indexing.html#returning-a-view-versus-a-copy\n",
      "  return super().drop(\n",
      "C:\\Users\\olive\\anaconda3\\lib\\site-packages\\pandas\\core\\frame.py:4308: SettingWithCopyWarning: \n",
      "A value is trying to be set on a copy of a slice from a DataFrame\n",
      "\n",
      "See the caveats in the documentation: https://pandas.pydata.org/pandas-docs/stable/user_guide/indexing.html#returning-a-view-versus-a-copy\n",
      "  return super().drop(\n"
     ]
    }
   ],
   "source": [
    "result_max_height = fiveFoldCrossVal(binary_dataset,stop_criteria_list[0],stop_criteria_dict[stop_criteria_list[0]])"
   ]
  },
  {
   "cell_type": "markdown",
   "metadata": {},
   "source": [
    "##### I will now create 3 trees of different heights\n"
   ]
  },
  {
   "cell_type": "code",
   "execution_count": 98,
   "metadata": {},
   "outputs": [],
   "source": [
    "        features_list = []\n",
    "        for i in range(5):\n",
    "            features_list.append(columns_required[i])"
   ]
  },
  {
   "cell_type": "code",
   "execution_count": 99,
   "metadata": {},
   "outputs": [
    {
     "data": {
      "text/markdown": [
       "F1 scores; 5-fold Cross Validation. Stopping Criteria:Max Height"
      ],
      "text/plain": [
       "<IPython.core.display.Markdown object>"
      ]
     },
     "metadata": {},
     "output_type": "display_data"
    },
    {
     "data": {
      "text/html": [
       "<div>\n",
       "<style scoped>\n",
       "    .dataframe tbody tr th:only-of-type {\n",
       "        vertical-align: middle;\n",
       "    }\n",
       "\n",
       "    .dataframe tbody tr th {\n",
       "        vertical-align: top;\n",
       "    }\n",
       "\n",
       "    .dataframe thead th {\n",
       "        text-align: right;\n",
       "    }\n",
       "</style>\n",
       "<table border=\"1\" class=\"dataframe\">\n",
       "  <thead>\n",
       "    <tr style=\"text-align: right;\">\n",
       "      <th>Criteria</th>\n",
       "      <th>2</th>\n",
       "      <th>3</th>\n",
       "      <th>4</th>\n",
       "      <th>Average</th>\n",
       "    </tr>\n",
       "    <tr>\n",
       "      <th>Iteration</th>\n",
       "      <th></th>\n",
       "      <th></th>\n",
       "      <th></th>\n",
       "      <th></th>\n",
       "    </tr>\n",
       "  </thead>\n",
       "  <tbody>\n",
       "    <tr>\n",
       "      <th>iteration0</th>\n",
       "      <td>0.92</td>\n",
       "      <td>0.92</td>\n",
       "      <td>0.92</td>\n",
       "      <td>0.92</td>\n",
       "    </tr>\n",
       "    <tr>\n",
       "      <th>iteration1</th>\n",
       "      <td>0.77</td>\n",
       "      <td>0.77</td>\n",
       "      <td>0.81</td>\n",
       "      <td>0.783333</td>\n",
       "    </tr>\n",
       "    <tr>\n",
       "      <th>iteration2</th>\n",
       "      <td>0.74</td>\n",
       "      <td>0.74</td>\n",
       "      <td>0.7</td>\n",
       "      <td>0.726667</td>\n",
       "    </tr>\n",
       "    <tr>\n",
       "      <th>iteration3</th>\n",
       "      <td>0.92</td>\n",
       "      <td>0.92</td>\n",
       "      <td>0.92</td>\n",
       "      <td>0.92</td>\n",
       "    </tr>\n",
       "    <tr>\n",
       "      <th>iteration4</th>\n",
       "      <td>0.95</td>\n",
       "      <td>0.95</td>\n",
       "      <td>1.0</td>\n",
       "      <td>0.966667</td>\n",
       "    </tr>\n",
       "    <tr>\n",
       "      <th>Average</th>\n",
       "      <td>0.86</td>\n",
       "      <td>0.86</td>\n",
       "      <td>0.87</td>\n",
       "      <td>0.863333</td>\n",
       "    </tr>\n",
       "  </tbody>\n",
       "</table>\n",
       "</div>"
      ],
      "text/plain": [
       "Criteria       2     3     4   Average\n",
       "Iteration                             \n",
       "iteration0  0.92  0.92  0.92      0.92\n",
       "iteration1  0.77  0.77  0.81  0.783333\n",
       "iteration2  0.74  0.74   0.7  0.726667\n",
       "iteration3  0.92  0.92  0.92      0.92\n",
       "iteration4  0.95  0.95   1.0  0.966667\n",
       "Average     0.86  0.86  0.87  0.863333"
      ]
     },
     "metadata": {},
     "output_type": "display_data"
    }
   ],
   "source": [
    "table_max_height = tableCreator(result_max_height, \"Max Height\",stop_criteria_dict[stop_criteria_list[0]])"
   ]
  },
  {
   "cell_type": "markdown",
   "metadata": {},
   "source": [
    "#### 3 different minimum thresholds for information gain "
   ]
  },
  {
   "cell_type": "code",
   "execution_count": 100,
   "metadata": {},
   "outputs": [
    {
     "name": "stderr",
     "output_type": "stream",
     "text": [
      "C:\\Users\\olive\\anaconda3\\lib\\site-packages\\pandas\\core\\frame.py:4308: SettingWithCopyWarning: \n",
      "A value is trying to be set on a copy of a slice from a DataFrame\n",
      "\n",
      "See the caveats in the documentation: https://pandas.pydata.org/pandas-docs/stable/user_guide/indexing.html#returning-a-view-versus-a-copy\n",
      "  return super().drop(\n",
      "C:\\Users\\olive\\anaconda3\\lib\\site-packages\\pandas\\core\\frame.py:4308: SettingWithCopyWarning: \n",
      "A value is trying to be set on a copy of a slice from a DataFrame\n",
      "\n",
      "See the caveats in the documentation: https://pandas.pydata.org/pandas-docs/stable/user_guide/indexing.html#returning-a-view-versus-a-copy\n",
      "  return super().drop(\n",
      "C:\\Users\\olive\\anaconda3\\lib\\site-packages\\pandas\\core\\frame.py:4308: SettingWithCopyWarning: \n",
      "A value is trying to be set on a copy of a slice from a DataFrame\n",
      "\n",
      "See the caveats in the documentation: https://pandas.pydata.org/pandas-docs/stable/user_guide/indexing.html#returning-a-view-versus-a-copy\n",
      "  return super().drop(\n",
      "C:\\Users\\olive\\anaconda3\\lib\\site-packages\\pandas\\core\\frame.py:4308: SettingWithCopyWarning: \n",
      "A value is trying to be set on a copy of a slice from a DataFrame\n",
      "\n",
      "See the caveats in the documentation: https://pandas.pydata.org/pandas-docs/stable/user_guide/indexing.html#returning-a-view-versus-a-copy\n",
      "  return super().drop(\n",
      "C:\\Users\\olive\\anaconda3\\lib\\site-packages\\pandas\\core\\frame.py:4308: SettingWithCopyWarning: \n",
      "A value is trying to be set on a copy of a slice from a DataFrame\n",
      "\n",
      "See the caveats in the documentation: https://pandas.pydata.org/pandas-docs/stable/user_guide/indexing.html#returning-a-view-versus-a-copy\n",
      "  return super().drop(\n"
     ]
    }
   ],
   "source": [
    "result_info_gain = fiveFoldCrossVal(binary_dataset,stop_criteria_list[1],stop_criteria_dict[stop_criteria_list[1]])"
   ]
  },
  {
   "cell_type": "code",
   "execution_count": 101,
   "metadata": {},
   "outputs": [
    {
     "data": {
      "text/markdown": [
       "F1 scores; 5-fold Cross Validation. Stopping Criteria:Info Gain"
      ],
      "text/plain": [
       "<IPython.core.display.Markdown object>"
      ]
     },
     "metadata": {},
     "output_type": "display_data"
    },
    {
     "data": {
      "text/html": [
       "<div>\n",
       "<style scoped>\n",
       "    .dataframe tbody tr th:only-of-type {\n",
       "        vertical-align: middle;\n",
       "    }\n",
       "\n",
       "    .dataframe tbody tr th {\n",
       "        vertical-align: top;\n",
       "    }\n",
       "\n",
       "    .dataframe thead th {\n",
       "        text-align: right;\n",
       "    }\n",
       "</style>\n",
       "<table border=\"1\" class=\"dataframe\">\n",
       "  <thead>\n",
       "    <tr style=\"text-align: right;\">\n",
       "      <th>Criteria</th>\n",
       "      <th>0.02</th>\n",
       "      <th>0.15</th>\n",
       "      <th>0.23</th>\n",
       "      <th>Average</th>\n",
       "    </tr>\n",
       "    <tr>\n",
       "      <th>Iteration</th>\n",
       "      <th></th>\n",
       "      <th></th>\n",
       "      <th></th>\n",
       "      <th></th>\n",
       "    </tr>\n",
       "  </thead>\n",
       "  <tbody>\n",
       "    <tr>\n",
       "      <th>iteration0</th>\n",
       "      <td>0.92</td>\n",
       "      <td>0.92</td>\n",
       "      <td>0.75</td>\n",
       "      <td>0.863333</td>\n",
       "    </tr>\n",
       "    <tr>\n",
       "      <th>iteration1</th>\n",
       "      <td>0.81</td>\n",
       "      <td>0.81</td>\n",
       "      <td>0.81</td>\n",
       "      <td>0.81</td>\n",
       "    </tr>\n",
       "    <tr>\n",
       "      <th>iteration2</th>\n",
       "      <td>0.7</td>\n",
       "      <td>0.7</td>\n",
       "      <td>0.71</td>\n",
       "      <td>0.703333</td>\n",
       "    </tr>\n",
       "    <tr>\n",
       "      <th>iteration3</th>\n",
       "      <td>0.81</td>\n",
       "      <td>0.85</td>\n",
       "      <td>0.75</td>\n",
       "      <td>0.803333</td>\n",
       "    </tr>\n",
       "    <tr>\n",
       "      <th>iteration4</th>\n",
       "      <td>1.0</td>\n",
       "      <td>1.0</td>\n",
       "      <td>1.0</td>\n",
       "      <td>1.0</td>\n",
       "    </tr>\n",
       "    <tr>\n",
       "      <th>Average</th>\n",
       "      <td>0.848</td>\n",
       "      <td>0.856</td>\n",
       "      <td>0.804</td>\n",
       "      <td>0.836</td>\n",
       "    </tr>\n",
       "  </tbody>\n",
       "</table>\n",
       "</div>"
      ],
      "text/plain": [
       "Criteria     0.02   0.15   0.23   Average\n",
       "Iteration                                \n",
       "iteration0   0.92   0.92   0.75  0.863333\n",
       "iteration1   0.81   0.81   0.81      0.81\n",
       "iteration2    0.7    0.7   0.71  0.703333\n",
       "iteration3   0.81   0.85   0.75  0.803333\n",
       "iteration4    1.0    1.0    1.0       1.0\n",
       "Average     0.848  0.856  0.804     0.836"
      ]
     },
     "metadata": {},
     "output_type": "display_data"
    }
   ],
   "source": [
    "table_info_gain = tableCreator(result_info_gain, \"Info Gain\",stop_criteria_dict[stop_criteria_list[1]])"
   ]
  },
  {
   "cell_type": "markdown",
   "metadata": {},
   "source": [
    "#### 3 different minimum threshold for sample size "
   ]
  },
  {
   "cell_type": "code",
   "execution_count": 102,
   "metadata": {},
   "outputs": [
    {
     "name": "stderr",
     "output_type": "stream",
     "text": [
      "C:\\Users\\olive\\anaconda3\\lib\\site-packages\\pandas\\core\\frame.py:4308: SettingWithCopyWarning: \n",
      "A value is trying to be set on a copy of a slice from a DataFrame\n",
      "\n",
      "See the caveats in the documentation: https://pandas.pydata.org/pandas-docs/stable/user_guide/indexing.html#returning-a-view-versus-a-copy\n",
      "  return super().drop(\n",
      "C:\\Users\\olive\\anaconda3\\lib\\site-packages\\pandas\\core\\frame.py:4308: SettingWithCopyWarning: \n",
      "A value is trying to be set on a copy of a slice from a DataFrame\n",
      "\n",
      "See the caveats in the documentation: https://pandas.pydata.org/pandas-docs/stable/user_guide/indexing.html#returning-a-view-versus-a-copy\n",
      "  return super().drop(\n",
      "C:\\Users\\olive\\anaconda3\\lib\\site-packages\\pandas\\core\\frame.py:4308: SettingWithCopyWarning: \n",
      "A value is trying to be set on a copy of a slice from a DataFrame\n",
      "\n",
      "See the caveats in the documentation: https://pandas.pydata.org/pandas-docs/stable/user_guide/indexing.html#returning-a-view-versus-a-copy\n",
      "  return super().drop(\n",
      "C:\\Users\\olive\\anaconda3\\lib\\site-packages\\pandas\\core\\frame.py:4308: SettingWithCopyWarning: \n",
      "A value is trying to be set on a copy of a slice from a DataFrame\n",
      "\n",
      "See the caveats in the documentation: https://pandas.pydata.org/pandas-docs/stable/user_guide/indexing.html#returning-a-view-versus-a-copy\n",
      "  return super().drop(\n",
      "C:\\Users\\olive\\anaconda3\\lib\\site-packages\\pandas\\core\\frame.py:4308: SettingWithCopyWarning: \n",
      "A value is trying to be set on a copy of a slice from a DataFrame\n",
      "\n",
      "See the caveats in the documentation: https://pandas.pydata.org/pandas-docs/stable/user_guide/indexing.html#returning-a-view-versus-a-copy\n",
      "  return super().drop(\n"
     ]
    }
   ],
   "source": [
    "result_info_MinSample = fiveFoldCrossVal(binary_dataset,stop_criteria_list[2],stop_criteria_dict[stop_criteria_list[2]])"
   ]
  },
  {
   "cell_type": "code",
   "execution_count": 103,
   "metadata": {},
   "outputs": [
    {
     "data": {
      "text/markdown": [
       "F1 scores; 5-fold Cross Validation. Stopping Criteria:Min Sample"
      ],
      "text/plain": [
       "<IPython.core.display.Markdown object>"
      ]
     },
     "metadata": {},
     "output_type": "display_data"
    },
    {
     "data": {
      "text/html": [
       "<div>\n",
       "<style scoped>\n",
       "    .dataframe tbody tr th:only-of-type {\n",
       "        vertical-align: middle;\n",
       "    }\n",
       "\n",
       "    .dataframe tbody tr th {\n",
       "        vertical-align: top;\n",
       "    }\n",
       "\n",
       "    .dataframe thead th {\n",
       "        text-align: right;\n",
       "    }\n",
       "</style>\n",
       "<table border=\"1\" class=\"dataframe\">\n",
       "  <thead>\n",
       "    <tr style=\"text-align: right;\">\n",
       "      <th>Criteria</th>\n",
       "      <th>1</th>\n",
       "      <th>15</th>\n",
       "      <th>40</th>\n",
       "      <th>Average</th>\n",
       "    </tr>\n",
       "    <tr>\n",
       "      <th>Iteration</th>\n",
       "      <th></th>\n",
       "      <th></th>\n",
       "      <th></th>\n",
       "      <th></th>\n",
       "    </tr>\n",
       "  </thead>\n",
       "  <tbody>\n",
       "    <tr>\n",
       "      <th>iteration0</th>\n",
       "      <td>0.92</td>\n",
       "      <td>0.92</td>\n",
       "      <td>0.75</td>\n",
       "      <td>0.863333</td>\n",
       "    </tr>\n",
       "    <tr>\n",
       "      <th>iteration1</th>\n",
       "      <td>0.81</td>\n",
       "      <td>0.77</td>\n",
       "      <td>0.82</td>\n",
       "      <td>0.8</td>\n",
       "    </tr>\n",
       "    <tr>\n",
       "      <th>iteration2</th>\n",
       "      <td>0.7</td>\n",
       "      <td>0.74</td>\n",
       "      <td>0.71</td>\n",
       "      <td>0.716667</td>\n",
       "    </tr>\n",
       "    <tr>\n",
       "      <th>iteration3</th>\n",
       "      <td>0.81</td>\n",
       "      <td>0.92</td>\n",
       "      <td>0.75</td>\n",
       "      <td>0.826667</td>\n",
       "    </tr>\n",
       "    <tr>\n",
       "      <th>iteration4</th>\n",
       "      <td>1.0</td>\n",
       "      <td>0.95</td>\n",
       "      <td>0.71</td>\n",
       "      <td>0.886667</td>\n",
       "    </tr>\n",
       "    <tr>\n",
       "      <th>Average</th>\n",
       "      <td>0.848</td>\n",
       "      <td>0.86</td>\n",
       "      <td>0.748</td>\n",
       "      <td>0.818667</td>\n",
       "    </tr>\n",
       "  </tbody>\n",
       "</table>\n",
       "</div>"
      ],
      "text/plain": [
       "Criteria        1    15     40   Average\n",
       "Iteration                               \n",
       "iteration0   0.92  0.92   0.75  0.863333\n",
       "iteration1   0.81  0.77   0.82       0.8\n",
       "iteration2    0.7  0.74   0.71  0.716667\n",
       "iteration3   0.81  0.92   0.75  0.826667\n",
       "iteration4    1.0  0.95   0.71  0.886667\n",
       "Average     0.848  0.86  0.748  0.818667"
      ]
     },
     "metadata": {},
     "output_type": "display_data"
    }
   ],
   "source": [
    "table_info_MinSample = tableCreator(result_info_MinSample, \"Min Sample\",stop_criteria_dict[stop_criteria_list[2]])"
   ]
  },
  {
   "cell_type": "code",
   "execution_count": 104,
   "metadata": {
    "scrolled": true
   },
   "outputs": [],
   "source": [
    "# a tree to be used lated\n",
    "root = subTreeCreator(binary_dataset,features_list,Node(None,None,None),0,stop_criteria_list[0],stop_criteria_dict[stop_criteria_list[0]][2])"
   ]
  },
  {
   "cell_type": "code",
   "execution_count": 105,
   "metadata": {},
   "outputs": [],
   "source": [
    "# merging the models together\n",
    "merged_df = pd.merge(table_info_gain, table_info_MinSample, left_index=True, right_index=True)\n",
    "\n",
    "\n",
    "merged_df = merged_df.drop(columns=['Average_x', 'Average_y'], axis=1)\n",
    "\n",
    "\n",
    "merged_df = pd.merge(merged_df, table_max_height, left_index=True, right_index=True)\n",
    "\n",
    "merged_df.columns = merged_df.columns.astype(str)"
   ]
  },
  {
   "cell_type": "code",
   "execution_count": 106,
   "metadata": {},
   "outputs": [],
   "source": [
    "# Renaming columns in dataframe\n",
    "common_titles = ['Info Gain', 'Min Sample', 'Max Height']\n",
    "new_column_names = []\n",
    "for i in range(0,3):\n",
    "    for j in range(0+i*3,i*3+3):\n",
    "        new_column_names.append(common_titles[i]+\": \"+str(merged_df.columns[j]))\n",
    "new_column_names.append(merged_df.columns[9])\n",
    "merged_df.columns = new_column_names"
   ]
  },
  {
   "cell_type": "code",
   "execution_count": 107,
   "metadata": {},
   "outputs": [
    {
     "data": {
      "text/html": [
       "<style  type=\"text/css\" >\n",
       "    #T_d30c9_ th:nth-child(10),td:nth-child(10) {\n",
       "          background-color: yellow;\n",
       "    }</style><table id=\"T_d30c9_\" ><thead>    <tr>        <th class=\"blank level0\" ></th>        <th class=\"col_heading level0 col0\" >Info Gain: 0.02</th>        <th class=\"col_heading level0 col1\" >Info Gain: 0.15</th>        <th class=\"col_heading level0 col2\" >Info Gain: 0.23</th>        <th class=\"col_heading level0 col3\" >Min Sample: 1</th>        <th class=\"col_heading level0 col4\" >Min Sample: 15</th>        <th class=\"col_heading level0 col5\" >Min Sample: 40</th>        <th class=\"col_heading level0 col6\" >Max Height: 2</th>        <th class=\"col_heading level0 col7\" >Max Height: 3</th>        <th class=\"col_heading level0 col8\" >Max Height: 4</th>        <th class=\"col_heading level0 col9\" >Average</th>    </tr>    <tr>        <th class=\"index_name level0\" >Iteration</th>        <th class=\"blank\" ></th>        <th class=\"blank\" ></th>        <th class=\"blank\" ></th>        <th class=\"blank\" ></th>        <th class=\"blank\" ></th>        <th class=\"blank\" ></th>        <th class=\"blank\" ></th>        <th class=\"blank\" ></th>        <th class=\"blank\" ></th>        <th class=\"blank\" ></th>    </tr></thead><tbody>\n",
       "                <tr>\n",
       "                        <th id=\"T_d30c9_level0_row0\" class=\"row_heading level0 row0\" >iteration0</th>\n",
       "                        <td id=\"T_d30c9_row0_col0\" class=\"data row0 col0\" >0.920000</td>\n",
       "                        <td id=\"T_d30c9_row0_col1\" class=\"data row0 col1\" >0.920000</td>\n",
       "                        <td id=\"T_d30c9_row0_col2\" class=\"data row0 col2\" >0.750000</td>\n",
       "                        <td id=\"T_d30c9_row0_col3\" class=\"data row0 col3\" >0.920000</td>\n",
       "                        <td id=\"T_d30c9_row0_col4\" class=\"data row0 col4\" >0.920000</td>\n",
       "                        <td id=\"T_d30c9_row0_col5\" class=\"data row0 col5\" >0.750000</td>\n",
       "                        <td id=\"T_d30c9_row0_col6\" class=\"data row0 col6\" >0.920000</td>\n",
       "                        <td id=\"T_d30c9_row0_col7\" class=\"data row0 col7\" >0.920000</td>\n",
       "                        <td id=\"T_d30c9_row0_col8\" class=\"data row0 col8\" >0.920000</td>\n",
       "                        <td id=\"T_d30c9_row0_col9\" class=\"data row0 col9\" >0.920000</td>\n",
       "            </tr>\n",
       "            <tr>\n",
       "                        <th id=\"T_d30c9_level0_row1\" class=\"row_heading level0 row1\" >iteration1</th>\n",
       "                        <td id=\"T_d30c9_row1_col0\" class=\"data row1 col0\" >0.810000</td>\n",
       "                        <td id=\"T_d30c9_row1_col1\" class=\"data row1 col1\" >0.810000</td>\n",
       "                        <td id=\"T_d30c9_row1_col2\" class=\"data row1 col2\" >0.810000</td>\n",
       "                        <td id=\"T_d30c9_row1_col3\" class=\"data row1 col3\" >0.810000</td>\n",
       "                        <td id=\"T_d30c9_row1_col4\" class=\"data row1 col4\" >0.770000</td>\n",
       "                        <td id=\"T_d30c9_row1_col5\" class=\"data row1 col5\" >0.820000</td>\n",
       "                        <td id=\"T_d30c9_row1_col6\" class=\"data row1 col6\" >0.770000</td>\n",
       "                        <td id=\"T_d30c9_row1_col7\" class=\"data row1 col7\" >0.770000</td>\n",
       "                        <td id=\"T_d30c9_row1_col8\" class=\"data row1 col8\" >0.810000</td>\n",
       "                        <td id=\"T_d30c9_row1_col9\" class=\"data row1 col9\" >0.783333</td>\n",
       "            </tr>\n",
       "            <tr>\n",
       "                        <th id=\"T_d30c9_level0_row2\" class=\"row_heading level0 row2\" >iteration2</th>\n",
       "                        <td id=\"T_d30c9_row2_col0\" class=\"data row2 col0\" >0.700000</td>\n",
       "                        <td id=\"T_d30c9_row2_col1\" class=\"data row2 col1\" >0.700000</td>\n",
       "                        <td id=\"T_d30c9_row2_col2\" class=\"data row2 col2\" >0.710000</td>\n",
       "                        <td id=\"T_d30c9_row2_col3\" class=\"data row2 col3\" >0.700000</td>\n",
       "                        <td id=\"T_d30c9_row2_col4\" class=\"data row2 col4\" >0.740000</td>\n",
       "                        <td id=\"T_d30c9_row2_col5\" class=\"data row2 col5\" >0.710000</td>\n",
       "                        <td id=\"T_d30c9_row2_col6\" class=\"data row2 col6\" >0.740000</td>\n",
       "                        <td id=\"T_d30c9_row2_col7\" class=\"data row2 col7\" >0.740000</td>\n",
       "                        <td id=\"T_d30c9_row2_col8\" class=\"data row2 col8\" >0.700000</td>\n",
       "                        <td id=\"T_d30c9_row2_col9\" class=\"data row2 col9\" >0.726667</td>\n",
       "            </tr>\n",
       "            <tr>\n",
       "                        <th id=\"T_d30c9_level0_row3\" class=\"row_heading level0 row3\" >iteration3</th>\n",
       "                        <td id=\"T_d30c9_row3_col0\" class=\"data row3 col0\" >0.810000</td>\n",
       "                        <td id=\"T_d30c9_row3_col1\" class=\"data row3 col1\" >0.850000</td>\n",
       "                        <td id=\"T_d30c9_row3_col2\" class=\"data row3 col2\" >0.750000</td>\n",
       "                        <td id=\"T_d30c9_row3_col3\" class=\"data row3 col3\" >0.810000</td>\n",
       "                        <td id=\"T_d30c9_row3_col4\" class=\"data row3 col4\" >0.920000</td>\n",
       "                        <td id=\"T_d30c9_row3_col5\" class=\"data row3 col5\" >0.750000</td>\n",
       "                        <td id=\"T_d30c9_row3_col6\" class=\"data row3 col6\" >0.920000</td>\n",
       "                        <td id=\"T_d30c9_row3_col7\" class=\"data row3 col7\" >0.920000</td>\n",
       "                        <td id=\"T_d30c9_row3_col8\" class=\"data row3 col8\" >0.920000</td>\n",
       "                        <td id=\"T_d30c9_row3_col9\" class=\"data row3 col9\" >0.920000</td>\n",
       "            </tr>\n",
       "            <tr>\n",
       "                        <th id=\"T_d30c9_level0_row4\" class=\"row_heading level0 row4\" >iteration4</th>\n",
       "                        <td id=\"T_d30c9_row4_col0\" class=\"data row4 col0\" >1.000000</td>\n",
       "                        <td id=\"T_d30c9_row4_col1\" class=\"data row4 col1\" >1.000000</td>\n",
       "                        <td id=\"T_d30c9_row4_col2\" class=\"data row4 col2\" >1.000000</td>\n",
       "                        <td id=\"T_d30c9_row4_col3\" class=\"data row4 col3\" >1.000000</td>\n",
       "                        <td id=\"T_d30c9_row4_col4\" class=\"data row4 col4\" >0.950000</td>\n",
       "                        <td id=\"T_d30c9_row4_col5\" class=\"data row4 col5\" >0.710000</td>\n",
       "                        <td id=\"T_d30c9_row4_col6\" class=\"data row4 col6\" >0.950000</td>\n",
       "                        <td id=\"T_d30c9_row4_col7\" class=\"data row4 col7\" >0.950000</td>\n",
       "                        <td id=\"T_d30c9_row4_col8\" class=\"data row4 col8\" >1.000000</td>\n",
       "                        <td id=\"T_d30c9_row4_col9\" class=\"data row4 col9\" >0.966667</td>\n",
       "            </tr>\n",
       "            <tr>\n",
       "                        <th id=\"T_d30c9_level0_row5\" class=\"row_heading level0 row5\" >Average</th>\n",
       "                        <td id=\"T_d30c9_row5_col0\" class=\"data row5 col0\" >0.848000</td>\n",
       "                        <td id=\"T_d30c9_row5_col1\" class=\"data row5 col1\" >0.856000</td>\n",
       "                        <td id=\"T_d30c9_row5_col2\" class=\"data row5 col2\" >0.804000</td>\n",
       "                        <td id=\"T_d30c9_row5_col3\" class=\"data row5 col3\" >0.848000</td>\n",
       "                        <td id=\"T_d30c9_row5_col4\" class=\"data row5 col4\" >0.860000</td>\n",
       "                        <td id=\"T_d30c9_row5_col5\" class=\"data row5 col5\" >0.748000</td>\n",
       "                        <td id=\"T_d30c9_row5_col6\" class=\"data row5 col6\" >0.860000</td>\n",
       "                        <td id=\"T_d30c9_row5_col7\" class=\"data row5 col7\" >0.860000</td>\n",
       "                        <td id=\"T_d30c9_row5_col8\" class=\"data row5 col8\" >0.870000</td>\n",
       "                        <td id=\"T_d30c9_row5_col9\" class=\"data row5 col9\" >0.863333</td>\n",
       "            </tr>\n",
       "    </tbody></table>"
      ],
      "text/plain": [
       "<pandas.io.formats.style.Styler at 0x1a17eb2e550>"
      ]
     },
     "metadata": {},
     "output_type": "display_data"
    }
   ],
   "source": [
    "# Highlighting the best performing model\n",
    "\n",
    "# These are F1 Scores of each model\n",
    "\n",
    "highlight_style = [{'selector': 'th:nth-child(10),td:nth-child(10)', 'props': [('background-color', 'yellow')]}]\n",
    "\n",
    "styled_df = merged_df.style.set_table_styles(highlight_style)\n",
    "\n",
    "display(styled_df)"
   ]
  },
  {
   "cell_type": "code",
   "execution_count": 108,
   "metadata": {},
   "outputs": [],
   "source": [
    "temp_input = stop_criteria_dict[stop_criteria_list[0]][0]"
   ]
  },
  {
   "cell_type": "markdown",
   "metadata": {},
   "source": [
    "## In conlcusion, the best performing model has as stopping condition to create a tree of maximum height 4. The structure of the tree is printed below."
   ]
  },
  {
   "cell_type": "code",
   "execution_count": 109,
   "metadata": {},
   "outputs": [
    {
     "name": "stdout",
     "output_type": "stream",
     "text": [
      "exam1 \n",
      "exam4 exam2 \n",
      "0 exam2 exam3 exam3 \n",
      "0 exam3 0 exam4 exam4 exam4 \n",
      "0 0.33 0.67 0.32 1 0.9 0.9 0.87 \n"
     ]
    }
   ],
   "source": [
    "printLevelOrder(root)"
   ]
  },
  {
   "cell_type": "code",
   "execution_count": null,
   "metadata": {},
   "outputs": [],
   "source": [
    "    "
   ]
  }
 ],
 "metadata": {
  "colab": {
   "provenance": []
  },
  "kernelspec": {
   "display_name": "Python 3",
   "language": "python",
   "name": "python3"
  },
  "language_info": {
   "codemirror_mode": {
    "name": "ipython",
    "version": 3
   },
   "file_extension": ".py",
   "mimetype": "text/x-python",
   "name": "python",
   "nbconvert_exporter": "python",
   "pygments_lexer": "ipython3",
   "version": "3.8.8"
  }
 },
 "nbformat": 4,
 "nbformat_minor": 1
}
